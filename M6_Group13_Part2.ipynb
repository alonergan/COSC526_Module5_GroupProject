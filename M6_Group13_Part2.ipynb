{
 "cells": [
  {
   "cell_type": "markdown",
   "id": "654f0f06",
   "metadata": {},
   "source": [
    "# M6 Team Assignment: Spooky Authorship With Spark Part 2\n",
    "\n",
    "#### Group 13\n",
    "- Aidan Lonergan\n",
    "- Daniel Lillard\n",
    "- Radhika Garg\n",
    "- Claudine Uwiragiye\n",
    "\n",
    "## Objective\n",
    "- In this assignment, your team will improve your scores from the first Spooky Authorship assignment. Your goal should be to get at least a 80% accuracy. If you already have over 80% accuracy, aim to get 85% accuracy. "
   ]
  },
  {
   "cell_type": "markdown",
   "id": "f142fb90",
   "metadata": {},
   "source": [
    "<hr>\n",
    "\n",
    "### Stage 0 - Import Data"
   ]
  },
  {
   "cell_type": "code",
   "execution_count": 11,
   "id": "e3501cb8",
   "metadata": {},
   "outputs": [
    {
     "name": "stdout",
     "output_type": "stream",
     "text": [
      "+-------+--------------------+------+\n",
      "|     id|                text|author|\n",
      "+-------+--------------------+------+\n",
      "|id26305|This process, how...|   EAP|\n",
      "|id17569|It never once occ...|   HPL|\n",
      "|id11008|In his left hand ...|   EAP|\n",
      "|id27763|How lovely is spr...|   MWS|\n",
      "|id12958|Finding nothing e...|   HPL|\n",
      "|id22965|A youth passed in...|   MWS|\n",
      "|id09674|The astronomer, p...|   EAP|\n",
      "|id13515|The surcingle hun...|   EAP|\n",
      "|id19322|I knew that you c...|   EAP|\n",
      "|id00912|I confess that ne...|   MWS|\n",
      "|id16737|He shall find tha...|   MWS|\n",
      "|id16607|Here we barricade...|   EAP|\n",
      "|id19764|Herbert West need...|   HPL|\n",
      "|id18886|The farm like gro...|   HPL|\n",
      "|id17189|But a glance will...|   EAP|\n",
      "|id12799|He had escaped me...|   MWS|\n",
      "|id08441|To these speeches...|   EAP|\n",
      "|id13117|Her native sprigh...|   MWS|\n",
      "|id14862|I even went so fa...|   EAP|\n",
      "|id20836|His facial aspect...|   HPL|\n",
      "+-------+--------------------+------+\n",
      "only showing top 20 rows\n",
      "None\n"
     ]
    }
   ],
   "source": [
    "# Stage 0 Solution\n",
    "from pyspark.sql import SparkSession\n",
    "import pandas as pd\n",
    "\n",
    "# Start spark session and load train and test data sets\n",
    "spark = SparkSession.builder \\\n",
    "    .appName(\"Module_5_Project\") \\\n",
    "    .master(\"local[*]\") \\\n",
    "    .config(\"spark.driver.memory\", \"8g\") \\\n",
    "    .config(\"spark.executor.memory\", \"8g\") \\\n",
    "    .config(\"spark.python.worker.memory\", \"1g\") \\\n",
    "    .config(\"spark.executor.pyspark.memory\", \"2g\") \\\n",
    "    .config(\"spark.rpc.io.connectionTimeout\", \"30s\") \\\n",
    "    .getOrCreate()\n",
    "\n",
    "df_train = spark.read.csv('./train.csv', header=True, inferSchema=True, quote='\"', escape='\"')\n",
    "print(df_train.show())"
   ]
  },
  {
   "cell_type": "markdown",
   "id": "6bd86d2d",
   "metadata": {},
   "source": [
    "<hr>\n",
    "\n",
    "### Stage 1 - Data Preparation"
   ]
  },
  {
   "cell_type": "code",
   "execution_count": 12,
   "id": "c1d5a430",
   "metadata": {},
   "outputs": [
    {
     "name": "stderr",
     "output_type": "stream",
     "text": [
      "[nltk_data] Downloading package stopwords to\n",
      "[nltk_data]     C:\\Users\\z004spjy\\AppData\\Roaming\\nltk_data...\n",
      "[nltk_data]   Package stopwords is already up-to-date!\n",
      "[nltk_data] Downloading package punkt to\n",
      "[nltk_data]     C:\\Users\\z004spjy\\AppData\\Roaming\\nltk_data...\n",
      "[nltk_data]   Package punkt is already up-to-date!\n"
     ]
    }
   ],
   "source": [
    "# Step 1 - Preprocessing\n",
    "from pyspark.sql.functions import col, split, explode, lower, regexp_replace, udf, collect_list, first, pandas_udf\n",
    "import nltk\n",
    "from nltk.corpus import stopwords\n",
    "from nltk.tokenize import word_tokenize\n",
    "from nltk.stem import WordNetLemmatizer\n",
    "from pyspark.sql.types import StringType, ArrayType\n",
    "\n",
    "# Get stop words\n",
    "nltk.download('stopwords')\n",
    "nltk.download('punkt')\n",
    "stop_words = set(stopwords.words('english'))\n",
    "lemmatizer = WordNetLemmatizer()\n",
    "\n",
    "# Clean and lowercase text, remove punctuation\n",
    "df_train_cleaned = df_train.withColumn(\"clean_text\", lower(regexp_replace(col(\"text\"), r\"[^a-zA-Z0-9\\s]\", \"\")))\n",
    "\n",
    "# Tokenize into words then filter out empty strings after tokenization\n",
    "df_train_words = df_train_cleaned.withColumn(\"word\", explode(split(col(\"clean_text\"), r\"\\s+\"))).filter(col('word') != \"\")\n",
    "\n",
    "# Remove stop words\n",
    "df_train_filtered = df_train_words.filter(~col(\"word\").isin(stop_words))\n",
    "\n",
    "#tokens = word_tokenize(df_train_filtered)\n",
    "#df_train_filtered = [lemmatizer.lemmatize(word) for word in tokens]\n",
    "\n",
    "# Define UDF\n",
    "def lemmatize_text(text):\n",
    "    if text:\n",
    "        return \" \".join([lemmatizer.lemmatize(word) for word in text.split()])\n",
    "    return text\n",
    "\n",
    "lemmatize_udf = udf(lemmatize_text, StringType())\n",
    "df_train_filtered_lem = df_train_filtered.withColumn(\"text\", lemmatize_udf(col(\"text\"))) # Apply UDF to the column\n",
    "\n",
    "# Aggregate words into list per id, author (currently they are a single field per row) and retain text column\n",
    "df_grouped = df_train_filtered_lem.groupBy(\"id\", \"author\").agg(\n",
    "    collect_list(\"word\").alias(\"words\"),\n",
    "    first('clean_text').alias('clean_text')\n",
    ")"
   ]
  },
  {
   "cell_type": "markdown",
   "id": "eb2115d8",
   "metadata": {},
   "source": [
    "<hr>\n",
    "\n",
    "### Stage 2 - Feature Extraction"
   ]
  },
  {
   "cell_type": "code",
   "execution_count": 13,
   "id": "a2511d35",
   "metadata": {},
   "outputs": [
    {
     "name": "stdout",
     "output_type": "stream",
     "text": [
      "+----------------------------------------------------------------------------------------------------------------------------------------------------------------------------------------------------------------------------------------------------------------------------------------------------------------------------------------------------------------------------------------------------------------------------------------------------------------------------------------------------------------------------------------------------------------------------------------------------------------------------------------------------------------------------------------------------------------------------------------------------------------------------------------------------------------------------------------+\n",
      "|tfidf                                                                                                                                                                                                                                                                                                                                                                                                                                                                                                                                                                                                                                                                                                                                                                                                                                   |\n",
      "+----------------------------------------------------------------------------------------------------------------------------------------------------------------------------------------------------------------------------------------------------------------------------------------------------------------------------------------------------------------------------------------------------------------------------------------------------------------------------------------------------------------------------------------------------------------------------------------------------------------------------------------------------------------------------------------------------------------------------------------------------------------------------------------------------------------------------------------+\n",
      "|(4096,[1443,2605,3302,3695,3950],[4.593843656082007,3.5399892680553915,6.097921052858282,4.962129760948418,5.538305264922859])                                                                                                                                                                                                                                                                                                                                                                                                                                                                                                                                                                                                                                                                                                          |\n",
      "|(4096,[102,167,1204,1370,1520,2934,3433,3812],[5.086320141179802,4.313766183015446,6.144441068493174,6.746616470847393,3.5208082092035475,3.342524731158873,4.933350796398375,7.802669145096707])                                                                                                                                                                                                                                                                                                                                                                                                                                                                                                                                                                                                                                       |\n",
      "|(4096,[205,433,455,630,1024,1097,1185,1355,1369,1607,1650,1667,1844,1942,1982,2510,2528,2608,2807,3168,3327,3383,3417,3629,3710,3909,4027],[4.764116874359788,4.007179955924512,6.355750162160382,4.053165069166336,5.1029871936650135,4.007179955924512,6.624014148755061,6.1932312326626064,4.431072233210842,5.451293887933229,5.564622573240232,3.963216832503396,5.578045593572373,5.154722868064202,5.297143208105971,7.048897342720326,5.181630320984127,7.048897342720326,5.970087681348397,6.218549040646896,5.874777501544072,4.940468264167238,6.144441068493174,5.619430809735227,5.382301016446277,7.243053357161284,5.7077234168809055])                                                                                                                                                                                  |\n",
      "|(4096,[2194,2357],[5.338815904506538,5.551377346490212])                                                                                                                                                                                                                                                                                                                                                                                                                                                                                                                                                                                                                                                                                                                                                                                |\n",
      "|(4096,[131,147,352,380,389,419,574,726,883,942,1120,1520,1602,1608,1728,1903,2011,2273,2279,2376,2589,2761,2768,2801,2835,2868,2973,3106,3115,3148,3202,3283,3286,3875,3921],[4.45716066929514,4.683613655510717,5.8567589960413935,5.804573242870823,4.819515653749576,3.4222062323990077,5.73897596038501,4.389049243435994,4.236663789133305,5.086320141179802,6.624014148755061,3.5208082092035475,4.578805778717467,5.512662834309521,6.416374783976816,4.298614377994843,3.4222062323990077,4.247321083607293,5.404773872298336,6.746616470847393,5.578045593572373,4.764116874359788,6.416374783976816,5.190762804547399,7.048897342720326,4.700327136484457,5.463270078979945,6.271192774132318,3.8347385077302647,4.466010284572122,5.821667676230123,6.031963085066484,3.870843512372381,5.172580485464208,6.144441068493174])|\n",
      "|(4096,[507,535,560,742,860,1308,1366,1587,1644,1932,1960,2124,2761,2777,2856,3159,3338,3654,3665,3676,3751,4032],[5.591651245628151,4.7581467073732835,5.787766124554442,4.384942461483341,6.624014148755061,3.557751724395232,3.9185313431580964,4.247321083607293,5.053796949474242,6.991738928880378,6.298591748320432,5.7549763017314515,4.764116874359788,5.787766124554442,4.073968196796098,6.5148148567900686,5.061829121171506,7.397204036988542,4.947636753645851,4.11378969098277,3.6795751695886203,5.990290388665916])                                                                                                                                                                                                                                                                                                     |\n",
      "|(4096,[551,748,935,1209,1525,2319,2566,2961,3154,3177,3372,3532,3894,4077],[5.111426062310878,5.257137873492272,6.298591748320432,7.317161329315006,5.662602981600436,3.839477853094161,5.393474317044403,7.802669145096707,5.061829121171506,6.746616470847393,4.683613655510717,5.950285054052217,4.711626691738391,6.746616470847393])                                                                                                                                                                                                                                                                                                                                                                                                                                                                                               |\n",
      "|(4096,[358,390,1727,2363,2478,3150],[3.6516292391980607,6.326762625287129,5.23771978763517,5.8567589960413935,3.996006655326387,5.551377346490212])                                                                                                                                                                                                                                                                                                                                                                                                                                                                                                                                                                                                                                                                                     |\n",
      "|(4096,[1010,1272,1353],[7.1095219645367616,5.086320141179802,4.116919583991698])                                                                                                                                                                                                                                                                                                                                                                                                                                                                                                                                                                                                                                                                                                                                                        |\n",
      "|(4096,[628,898,1239,1353,1366,1496,1882,2350,3263,3323,3540,3725,3736],[4.291123706265686,5.591651245628151,4.317590279453849,4.116919583991698,3.9185313431580964,6.244524527050157,7.1095219645367616,5.427763390523035,5.163611815481448,5.662602981600436,5.970087681348397,5.257137873492272,4.329151101854925])                                                                                                                                                                                                                                                                                                                                                                                                                                                                                                                   |\n",
      "|(4096,[600,937,2308,2840,3051,3864],[4.598906958038554,3.7998917764000963,4.0184795111784455,4.233136448615337,5.3282337951760015,4.520818521067118])                                                                                                                                                                                                                                                                                                                                                                                                                                                                                                                                                                                                                                                                                   |\n",
      "|(4096,[106,303,485,705,1308,1492,1820,1920,2532,2613,2640,2771,2813,2964,3071,3151,3451,3497,3539,3579,3636],[4.474938915316424,5.930866968195115,3.585001366842607,5.930866968195115,3.557751724395232,6.326762625287129,5.525401860086951,4.554234517986962,4.926283629175282,5.2669901699352835,5.181630320984127,6.168538620072235,6.053469290287448,6.704056856428597,4.912297387200542,4.418278881750933,4.161798910169131,3.9686076811382724,4.7581467073732835,5.8567589960413935,4.933350796398375])                                                                                                                                                                                                                                                                                                                           |\n",
      "|(4096,[155,496,937,976,1044,1231,1371,1675,1760,2032,2612,2733,2880,3131,3859],[6.168538620072235,4.912297387200542,3.7998917764000963,4.053165069166336,4.435373315110232,4.7581467073732835,5.2869908366419525,6.326762625287129,3.8538321665458444,5.1029871936650135,6.168538620072235,3.242234852950007,5.500084052102661,4.578805778717467,4.554234517986962])                                                                                                                                                                                                                                                                                                                                                                                                                                                                    |\n",
      "|(4096,[231,344,787,796,822,1346,1835,2359,2508,2620,2690,2949,3411,3458,3645,4013],[6.5148148567900686,6.168538620072235,4.563990692932326,5.23771978763517,5.3712511802596925,7.684886109440323,6.480913305114387,7.579525593782497,6.83758824905312,4.926283629175282,5.564622573240232,5.633615444727184,5.3712511802596925,3.4206425104228253,6.075448197006223,6.075448197006223])                                                                                                                                                                                                                                                                                                                                                                                                                                                 |\n",
      "|(4096,[1100,1168,1290,1389,1750,1787,1858,2580,2934,3329,3744,3749,3776,3798,3890,3975],[4.640363671716901,4.838685569857296,4.764116874359788,3.493549281230913,6.0109096758686515,12.106938580574896,5.317762495308706,4.661754861698218,3.342524731158873,4.891678099997806,5.094618943994496,5.061829121171506,4.5302525533004765,5.893126640212269,5.297143208105971,5.257137873492272])                                                                                                                                                                                                                                                                                                                                                                                                                                           |\n",
      "|(4096,[389,1080,1520,1551,2041,2624,2837,2840,2883,2957,3056,3139,3601],[4.819515653749576,3.788540916731407,3.5208082092035475,5.218671592664475,7.802669145096707,5.119936751978787,4.444031377853348,4.233136448615337,3.941939434056111,6.1932312326626064,5.692455944750117,5.3282337951760015,5.821667676230123])                                                                                                                                                                                                                                                                                                                                                                                                                                                                                                                 |\n",
      "|(4096,[27,1629,1985,3092],[5.037923600317951,6.3856031253100625,4.053165069166336,5.037923600317951])                                                                                                                                                                                                                                                                                                                                                                                                                                                                                                                                                                                                                                                                                                                                   |\n",
      "|(4096,[31,121,123,370,1149,1343,1369,1575,2217,2532,2660,2687,2773,2934,3001,3079],[3.5070858669484464,5.338815904506538,5.538305264922859,3.9185313431580964,6.053469290287448,2.566892297023568,4.431072233210842,4.80070632179208,4.098285504446805,4.926283629175282,3.5019881498767775,2.8285249595828663,3.3126292663622467,3.342524731158873,5.512662834309521,3.7530604767159974])                                                                                                                                                                                                                                                                                                                                                                                                                                              |\n",
      "|(4096,[612,804,892,1051,1104,1493,2160,2422,2830,3215,3350,3783,3964],[4.215683998664111,6.053469290287448,5.525401860086951,6.0109096758686515,5.564622573240232,5.3282337951760015,4.089097078392399,5.2869908366419525,4.740447130273883,6.83758824905312,6.991738928880378,4.333034601881323,4.832254679527005])                                                                                                                                                                                                                                                                                                                                                                                                                                                                                                                    |\n",
      "|(4096,[755,1188,1328,1381,2247,2291,2883,3256,3292,3567],[5.137178558413292,5.307399708273159,2.7377035064554036,4.5302525533004765,5.970087681348397,5.662602981600436,3.941939434056111,4.954857001619338,5.564622573240232,4.838685569857296])                                                                                                                                                                                                                                                                                                                                                                                                                                                                                                                                                                                       |\n",
      "+----------------------------------------------------------------------------------------------------------------------------------------------------------------------------------------------------------------------------------------------------------------------------------------------------------------------------------------------------------------------------------------------------------------------------------------------------------------------------------------------------------------------------------------------------------------------------------------------------------------------------------------------------------------------------------------------------------------------------------------------------------------------------------------------------------------------------------------+\n",
      "only showing top 20 rows\n"
     ]
    }
   ],
   "source": [
    "# Stage 2 - TFIDF and Normalization \n",
    "from pyspark.ml.feature import HashingTF, IDF\n",
    "from pyspark.ml.feature import Normalizer\n",
    "\n",
    "# Compute HashingTF\n",
    "hashingTF = HashingTF(inputCol='words', outputCol='tf', numFeatures=4096) # I selected 4096 for no particular reason, this can be tweaked.                           \n",
    "tf_data_train = hashingTF.transform(df_grouped)\n",
    "\n",
    "# Compute IDF\n",
    "idf = IDF(inputCol='tf', outputCol='tfidf', minDocFreq=3)\n",
    "idf_model_train = idf.fit(tf_data_train)\n",
    "tfidf_data_train = idf_model_train.transform(tf_data_train)\n",
    "\n",
    "# Normalize the data\n",
    "normalizer = Normalizer(inputCol='tfidf', outputCol='tfidf_norm', p=2.0)\n",
    "tfidf_data_train = normalizer.transform(tfidf_data_train)\n",
    "\n",
    "# Drop unneeded columns and show a few rows\n",
    "tfidf_data_train = tfidf_data_train.drop('tf', 'words')\n",
    "tfidf_data_train.select('tfidf').show(truncate=False)"
   ]
  },
  {
   "cell_type": "markdown",
   "id": "06d43d1c",
   "metadata": {},
   "source": [
    "<hr>\n",
    "\n",
    "### Stage 3 - Machine Learning\n",
    "1) Perform train/test split\n",
    "2) Train neural network to achieve >85% accuracy"
   ]
  },
  {
   "cell_type": "code",
   "execution_count": 14,
   "id": "3e7e16eb",
   "metadata": {},
   "outputs": [
    {
     "name": "stdout",
     "output_type": "stream",
     "text": [
      "Training Accuracy: 0.8631\n"
     ]
    }
   ],
   "source": [
    "from pyspark.ml import Pipeline\n",
    "from pyspark.ml.feature import StringIndexer\n",
    "from pyspark.ml.classification import MultilayerPerceptronClassifier\n",
    "from pyspark.ml.evaluation import MulticlassClassificationEvaluator\n",
    "\n",
    "# Train test split\n",
    "train_data, test_data = tfidf_data_train.randomSplit([0.7, 0.3], seed=42)\n",
    "train_data.cache()\n",
    "test_data.cache()\n",
    "\n",
    "# Convert author labels to numeric index\n",
    "indexer = StringIndexer(inputCol='author', outputCol='label')\n",
    "indexer_model = indexer.fit(train_data)\n",
    "indexed_train = indexer_model.transform(train_data)\n",
    "indexed_test = indexer_model.transform(test_data)\n",
    "indexed_train.cache()\n",
    "indexed_train.count() # Force the train data to cache\n",
    "\n",
    "layers = [hashingTF.getNumFeatures(), 200, 100, 50, 3]\n",
    "\n",
    "# create the trainer and set its parameters\n",
    "nn_trainer = MultilayerPerceptronClassifier(maxIter=150, layers=layers, stepSize= 0.03, blockSize=128, seed=1234,featuresCol='tfidf_norm',labelCol='label')\n",
    "\n",
    "nn_pipeline = Pipeline(stages=[\n",
    "    indexer\n",
    "    ,nn_trainer\n",
    "])\n",
    "\n",
    "# Fit and transform using same pipeline\n",
    "nn_model = nn_pipeline.fit(train_data)\n",
    "nn_results = nn_model.transform(train_data)\n",
    "\n",
    "evaluator = MulticlassClassificationEvaluator(\n",
    "    labelCol='label',\n",
    "    predictionCol='prediction',\n",
    "    metricName='accuracy'\n",
    ")\n",
    "\n",
    "accuracy = evaluator.evaluate(nn_results)\n",
    "print(f'Training Accuracy: {accuracy:.4f}')"
   ]
  },
  {
   "cell_type": "markdown",
   "id": "1e390f0f",
   "metadata": {},
   "source": [
    "<hr>\n",
    "\n",
    "### Stage 4 - Evaluation and Visualization"
   ]
  },
  {
   "cell_type": "code",
   "execution_count": 15,
   "id": "cedd494c",
   "metadata": {},
   "outputs": [
    {
     "name": "stdout",
     "output_type": "stream",
     "text": [
      "Neural Network Accuracy Score: 0.7017104092226326\n"
     ]
    },
    {
     "data": {
      "image/png": "[encoded data removed]",
      "text/plain": [
       "<Figure size 800x600 with 2 Axes>"
      ]
     },
     "metadata": {},
     "output_type": "display_data"
    }
   ],
   "source": [
    "from sklearn.metrics import confusion_matrix\n",
    "import matplotlib.pyplot as plt\n",
    "import seaborn as sns\n",
    "\n",
    "label_mapping = indexer_model.labels  # Get mapping of indices to author names for analysis (e.g., ['EAP', 'HPL', 'MWS'])\n",
    "test_data_nn = test_data.drop('label')\n",
    "nn_test_predictions = nn_model.transform(test_data_nn)\n",
    "\n",
    "nn_evaluator = MulticlassClassificationEvaluator(labelCol='label', predictionCol='prediction', metricName='f1')\n",
    "acc_score = nn_evaluator.evaluate(nn_test_predictions)\n",
    "print(f\"Neural Network Accuracy Score: {acc_score}\")\n",
    "\n",
    "# Get confusion matrix\n",
    "nn_test_predictions = nn_test_predictions.select('label', 'prediction').toPandas()\n",
    "nn_conf_mat = confusion_matrix(nn_test_predictions['label'], nn_test_predictions['prediction'])\n",
    "\n",
    "# Plot confusion matrix\n",
    "plt.figure(figsize=(8, 6))\n",
    "sns.heatmap(nn_conf_mat, annot=True, fmt='d', cmap='Blues', xticklabels=label_mapping, yticklabels=label_mapping)\n",
    "plt.title(\"Neural Network Confusion Matrix\")\n",
    "plt.xlabel(\"Predicted Author\")\n",
    "plt.ylabel(\"True Author\")\n",
    "plt.show()"
   ]
  },
  {
   "cell_type": "code",
   "execution_count": null,
   "id": "98348056-014d-47b7-816a-ac73dd9e329c",
   "metadata": {},
   "outputs": [],
   "source": []
  }
 ],
 "metadata": {
  "kernelspec": {
   "display_name": "Python 3 (ipykernel)",
   "language": "python",
   "name": "python3"
  },
  "language_info": {
   "codemirror_mode": {
    "name": "ipython",
    "version": 3
   },
   "file_extension": ".py",
   "mimetype": "text/x-python",
   "name": "python",
   "nbconvert_exporter": "python",
   "pygments_lexer": "ipython3",
   "version": "3.12.4"
  }
 },
 "nbformat": 4,
 "nbformat_minor": 5
}
