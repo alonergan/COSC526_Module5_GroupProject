{
 "cells": [
  {
   "cell_type": "markdown",
   "id": "8a903cc6",
   "metadata": {},
   "source": [
    "# Module 5 - Spooky Authorship Identification\n",
    "#### Group 13\n",
    "- Aidan Lonergan\n",
    "- Daniel Lillard\n",
    "- Radhika Garg\n",
    "- Claudine Uwiragiye"
   ]
  },
  {
   "cell_type": "markdown",
   "id": "5de4c9a6",
   "metadata": {},
   "source": [
    "<hr>\n",
    "\n",
    "### Objective\n",
    "1) Accurately identify the author of the sentences in the test set\n",
    "2) Perform all work with Apache Spark"
   ]
  },
  {
   "cell_type": "markdown",
   "id": "e6b1cba3",
   "metadata": {},
   "source": [
    "<hr>\n",
    "\n",
    "### Stage 0 - Import Data\n",
    "1) Create a code notebook called: code_6_of_10_data_mine_group13.ipynb\n",
    "2) Load the dataset into Spark data objects and explore structure, size, and distribution of information"
   ]
  },
  {
   "cell_type": "code",
   "execution_count": null,
   "id": "ad0010f6",
   "metadata": {},
   "outputs": [],
   "source": [
    "# Stage 0 Solution\n",
    "from pyspark.sql import SparkSession\n",
    "import pandas as pd\n",
    "\n",
    "# Start spark session and load train and test data sets\n",
    "spark = SparkSession.builder.appName(\"Module_5_Project\").getOrCreate()\n",
    "df_train = spark.read.csv('./train.csv', header=True, inferSchema=True, quote='\"', escape='\"')"
   ]
  },
  {
   "cell_type": "markdown",
   "id": "823c498c",
   "metadata": {},
   "source": [
    "##### Summary"
   ]
  },
  {
   "cell_type": "code",
   "execution_count": null,
   "id": "936b404b",
   "metadata": {},
   "outputs": [],
   "source": [
    "# Print size and descriptive statistics\n",
    "print(\"==== DataSet Shape ====\")\n",
    "print(f\"{len(df_train.columns)} columns\\n{df_train.count()} rows\\n\")\n",
    "\n",
    "print(\"==== DataSet Descriptive Statistics ====\")\n",
    "print(df_train.describe().show())\n",
    "\n",
    "print(\"\\n==== DataSet Unique Authors ====\")\n",
    "print(df_train.select('author').distinct().show())"
   ]
  },
  {
   "cell_type": "markdown",
   "id": "5e72e21a",
   "metadata": {},
   "source": [
    "<hr>\n",
    "\n",
    "### Stage 1 - Data Preparation (Exploratory data analysis and text mining pre-processing)\n",
    "1) Perform exploratory data analysis and create visualizations and tables as needed\n",
    "2) Text Preprocessing: perform tasks like tokenization and stopwords removal to clean text data\n",
    "    - Tokenize - split the text into individual words aka tokens.\n",
    "    - Remove stop.words - frequently used pronouns and personal references.\n",
    "        - Top ten include: I, you, he, she, it, we, they, me, him, her\n",
    "    - Lemmatization - convert words to their root (optional).\n",
    "        - Lemmatization is a text normalization technique that reduces words to their base or dictionary form (lemma). Use to reduce inflected or derived words to their root form for better analysis and modeling outcomes"
   ]
  },
  {
   "cell_type": "code",
   "execution_count": null,
   "id": "f32b906e",
   "metadata": {},
   "outputs": [
    {
     "name": "stdout",
     "output_type": "stream",
     "text": [
      "[Row(id='id26305', text='This process, however, afforded me no means of ascertaining the dimensions of my dungeon; as I might make its circuit, and return to the point whence I set out, without being aware of the fact; so perfectly uniform seemed the wall.', author='EAP', clean_text='this process however afforded me no means of ascertaining the dimensions of my dungeon as i might make its circuit and return to the point whence i set out without being aware of the fact so perfectly uniform seemed the wall', word='this'), Row(id='id26305', text='This process, however, afforded me no means of ascertaining the dimensions of my dungeon; as I might make its circuit, and return to the point whence I set out, without being aware of the fact; so perfectly uniform seemed the wall.', author='EAP', clean_text='this process however afforded me no means of ascertaining the dimensions of my dungeon as i might make its circuit and return to the point whence i set out without being aware of the fact so perfectly uniform seemed the wall', word='process'), Row(id='id26305', text='This process, however, afforded me no means of ascertaining the dimensions of my dungeon; as I might make its circuit, and return to the point whence I set out, without being aware of the fact; so perfectly uniform seemed the wall.', author='EAP', clean_text='this process however afforded me no means of ascertaining the dimensions of my dungeon as i might make its circuit and return to the point whence i set out without being aware of the fact so perfectly uniform seemed the wall', word='however'), Row(id='id26305', text='This process, however, afforded me no means of ascertaining the dimensions of my dungeon; as I might make its circuit, and return to the point whence I set out, without being aware of the fact; so perfectly uniform seemed the wall.', author='EAP', clean_text='this process however afforded me no means of ascertaining the dimensions of my dungeon as i might make its circuit and return to the point whence i set out without being aware of the fact so perfectly uniform seemed the wall', word='afforded'), Row(id='id26305', text='This process, however, afforded me no means of ascertaining the dimensions of my dungeon; as I might make its circuit, and return to the point whence I set out, without being aware of the fact; so perfectly uniform seemed the wall.', author='EAP', clean_text='this process however afforded me no means of ascertaining the dimensions of my dungeon as i might make its circuit and return to the point whence i set out without being aware of the fact so perfectly uniform seemed the wall', word='me'), Row(id='id26305', text='This process, however, afforded me no means of ascertaining the dimensions of my dungeon; as I might make its circuit, and return to the point whence I set out, without being aware of the fact; so perfectly uniform seemed the wall.', author='EAP', clean_text='this process however afforded me no means of ascertaining the dimensions of my dungeon as i might make its circuit and return to the point whence i set out without being aware of the fact so perfectly uniform seemed the wall', word='no'), Row(id='id26305', text='This process, however, afforded me no means of ascertaining the dimensions of my dungeon; as I might make its circuit, and return to the point whence I set out, without being aware of the fact; so perfectly uniform seemed the wall.', author='EAP', clean_text='this process however afforded me no means of ascertaining the dimensions of my dungeon as i might make its circuit and return to the point whence i set out without being aware of the fact so perfectly uniform seemed the wall', word='means'), Row(id='id26305', text='This process, however, afforded me no means of ascertaining the dimensions of my dungeon; as I might make its circuit, and return to the point whence I set out, without being aware of the fact; so perfectly uniform seemed the wall.', author='EAP', clean_text='this process however afforded me no means of ascertaining the dimensions of my dungeon as i might make its circuit and return to the point whence i set out without being aware of the fact so perfectly uniform seemed the wall', word='of'), Row(id='id26305', text='This process, however, afforded me no means of ascertaining the dimensions of my dungeon; as I might make its circuit, and return to the point whence I set out, without being aware of the fact; so perfectly uniform seemed the wall.', author='EAP', clean_text='this process however afforded me no means of ascertaining the dimensions of my dungeon as i might make its circuit and return to the point whence i set out without being aware of the fact so perfectly uniform seemed the wall', word='ascertaining'), Row(id='id26305', text='This process, however, afforded me no means of ascertaining the dimensions of my dungeon; as I might make its circuit, and return to the point whence I set out, without being aware of the fact; so perfectly uniform seemed the wall.', author='EAP', clean_text='this process however afforded me no means of ascertaining the dimensions of my dungeon as i might make its circuit and return to the point whence i set out without being aware of the fact so perfectly uniform seemed the wall', word='the')]\n",
      "+-------+--------------------+------+--------------------+------------+\n",
      "|     id|                text|author|          clean_text|        word|\n",
      "+-------+--------------------+------+--------------------+------------+\n",
      "|id26305|This process, how...|   EAP|this process howe...|     process|\n",
      "|id26305|This process, how...|   EAP|this process howe...|     however|\n",
      "|id26305|This process, how...|   EAP|this process howe...|    afforded|\n",
      "|id26305|This process, how...|   EAP|this process howe...|       means|\n",
      "|id26305|This process, how...|   EAP|this process howe...|ascertaining|\n",
      "|id26305|This process, how...|   EAP|this process howe...|  dimensions|\n",
      "|id26305|This process, how...|   EAP|this process howe...|     dungeon|\n",
      "|id26305|This process, how...|   EAP|this process howe...|       might|\n",
      "|id26305|This process, how...|   EAP|this process howe...|        make|\n",
      "|id26305|This process, how...|   EAP|this process howe...|     circuit|\n",
      "+-------+--------------------+------+--------------------+------------+\n",
      "only showing top 10 rows\n"
     ]
    },
    {
     "name": "stderr",
     "output_type": "stream",
     "text": [
      "[nltk_data] Downloading package stopwords to\n",
      "[nltk_data]     C:\\Users\\aflon\\AppData\\Roaming\\nltk_data...\n",
      "[nltk_data]   Package stopwords is already up-to-date!\n"
     ]
    }
   ],
   "source": [
    "# Step 1 - Preprocessing\n",
    "import matplotlib.pyplot as plt\n",
    "from pyspark.sql.functions import col, split, explode, length, lower, regexp_replace, count, row_number\n",
    "from collections import Counter\n",
    "import re\n",
    "import nltk\n",
    "from nltk.corpus import stopwords\n",
    "\n",
    "# Get stop words\n",
    "nltk.download('stopwords')\n",
    "stop_words = set(stopwords.words('english'))\n",
    "\n",
    "# Clean and lowercase text, remove punctuation\n",
    "df_train_cleaned = df_train.withColumn(\"clean_text\", lower(regexp_replace(col(\"text\"), r\"[^a-zA-Z0-9\\s]\", \"\")))\n",
    "\n",
    "# Tokenize into words then filter out empty strings after tokenization\n",
    "df_train_words = df_train_cleaned.withColumn(\"word\", explode(split(col(\"clean_text\"), r\"\\s+\"))).filter(col('word') != \"\")\n",
    "\n",
    "# Remove stop words\n",
    "df_train_filtered = df_train_words.filter(~col(\"word\").isin(stop_words))\n",
    "\n",
    "df_train_filtered.show(10)"
   ]
  },
  {
   "cell_type": "code",
   "execution_count": null,
   "id": "2a71be43",
   "metadata": {},
   "outputs": [],
   "source": [
    "# Stage 1 Analysis and Visualizations\n",
    "from pyspark.sql.window import Window\n",
    "from pyspark.sql import functions as F\n",
    "import matplotlib.pyplot as plt\n",
    "import seaborn as sns\n",
    "\n",
    "sns.set_style(\"whitegrid\")\n",
    "\n",
    "# ---------- CHART 1: Most Frequent Word Lengths ----------\n",
    "# Get word frequency\n",
    "df_word_freq = df_train_filtered.groupBy(\"word\").agg(count(\"*\").alias(\"frequency\"))\n",
    "\n",
    "# Get top 30 most frequent words\n",
    "df_top_words = df_word_freq.orderBy(col(\"frequency\").desc()).limit(30)\n",
    "\n",
    "# Convert to pandas for sns\n",
    "pdf_top_words = df_top_words.toPandas()\n",
    "\n",
    "# Plot Chart 1\n",
    "plt.figure(figsize=(12, 6))\n",
    "sns.barplot(data=pdf_top_words, x=\"word\", y=\"frequency\", color=\"skyblue\")\n",
    "plt.xticks(rotation=45, ha=\"right\")\n",
    "plt.title(\"Top 30 Most Frequent Non-Stopwords\")\n",
    "plt.xlabel(\"Words\")\n",
    "plt.ylabel(\"Frequency\")\n",
    "plt.tight_layout()\n",
    "plt.show()\n",
    "\n",
    "# ---------- CHART 2: Most Frequent Word Lengths ----------\n",
    "# Get word lengths\n",
    "df_word_lengths = df_train_filtered.withColumn(\"length\", length(col(\"word\")))\n",
    "\n",
    "# Group by author and length, then count occurrences\n",
    "df_grouped = df_word_lengths.groupBy(\"author\", \"length\").agg(count(\"*\").alias(\"count\"))\n",
    "\n",
    "# Convert to pandas for sns\n",
    "pdf_word_lengths = df_grouped.toPandas()\n",
    "\n",
    "# Plot chart 2\n",
    "plt.figure(figsize=(10, 6))\n",
    "sns.barplot(data=pdf_word_lengths, x=\"length\", y=\"count\", hue=\"author\")\n",
    "plt.title(\"Most Frequent Word Lengths by Author (Excluding Stop Words)\")\n",
    "plt.xlabel(\"Word Length\")\n",
    "plt.ylabel(\"Count\")\n",
    "plt.tight_layout()\n",
    "plt.show()\n",
    "\n",
    "# ---------- CHART 3: Top 10 Longest Words per Author ----------\n",
    "# Group by author and word, get length of word\n",
    "df_longest = df_word_lengths.groupBy(\"author\", \"word\") \\\n",
    "    .agg(count(\"*\").alias(\"count\"),\n",
    "    F.max(length(col('word'))).alias('length')\n",
    ")\n",
    "\n",
    "# Rank words by length within each author\n",
    "windowSpec = Window.partitionBy(\"author\").orderBy(col(\"length\").desc())\n",
    "\n",
    "# Get top 10 words per author\n",
    "df_top_longest = df_longest.withColumn(\"rank\", row_number().over(windowSpec)).filter(col(\"rank\") <= 10)\n",
    "\n",
    "# Convert to pandas for sns\n",
    "pdf_longest = df_top_longest.select(\"author\", \"word\", \"length\").toPandas()\n",
    "\n",
    "# Plot chart 3\n",
    "plt.figure(figsize=(10, 10))\n",
    "sns.barplot(data=pdf_longest, x=\"length\", y=\"word\", hue=\"author\")\n",
    "plt.title(\"Top 10 Longest Words per Author\")\n",
    "plt.xlabel(\"Word Length\")\n",
    "plt.ylabel(\"Word\")\n",
    "plt.tight_layout()\n",
    "plt.show()\n",
    "\n",
    "# ----- CHART 4: count unique words by author ----------\n",
    "# Get unique words per author\n",
    "df_unique_words = df_train_filtered.select(\"author\", \"word\").distinct()\n",
    "\n",
    "# Count the unique words per author\n",
    "df_word_diversity = df_unique_words.groupBy(\"author\").count().withColumnRenamed(\"count\", \"unique_word_count\")\n",
    "\n",
    "# Convert to pandas for sns\n",
    "pdf_diversity = df_word_diversity.toPandas()\n",
    "\n",
    "# Define custom color palette \n",
    "palette = {\"EAP\": \"#4C72B0\", \"HPL\": \"#DD8452\", \"MWS\": \"#55A868\"}\n",
    "\n",
    "# Plot chart 4\n",
    "plt.figure(figsize=(7, 5))\n",
    "sns.barplot(data=pdf_diversity, x=\"author\", y=\"unique_word_count\", hue=\"author\", palette=palette, legend=False)\n",
    "plt.title(\"Word Diversity (Unique Words Used) per Author\")\n",
    "plt.xlabel(\"Author\")\n",
    "plt.ylabel(\"Unique Word Count\")\n",
    "plt.tight_layout()\n",
    "plt.show()"
   ]
  },
  {
   "cell_type": "markdown",
   "id": "93f5b4b8",
   "metadata": {},
   "source": [
    "<hr>\n",
    "\n",
    "### Stage 2 - Feature Extraction\n",
    "1) Perform TFIDF to quantify word importance <href><https://en.wikipedia.org/wiki/Tf%E2%80%93idf></href>\n",
    "2) Normalize is scaling or standardizing the numerical features to a standard range or distribution\n",
    "    - In text mining, normalization vectorizes features with methods like TFIDF, a numerical measurement, to ensure a consistent scale\n",
    "    - It handles variations in the magnitude of feature values impacting machine-learning algorithm performance. Normalize the features to ensure a similar scale and prevent features with larger values from dominating the analysis or modeling process"
   ]
  },
  {
   "cell_type": "code",
   "execution_count": 140,
   "id": "c2848f0c",
   "metadata": {},
   "outputs": [
    {
     "name": "stdout",
     "output_type": "stream",
     "text": [
      "+----------------------------------------------------------------------------------------------------------------------------------------------------------------------------------------------------------------------------------------------------------------------------------------------------------------------------------------------------------------------------------------------------------------------------------------------------------------------------------------------------------------------------------------------------------------------------------------------------------------------------------------------------------------------------------------------------------------------------------------------------------------------------------------------------------------------------------------+\n",
      "|tfidf                                                                                                                                                                                                                                                                                                                                                                                                                                                                                                                                                                                                                                                                                                                                                                                                                                   |\n",
      "+----------------------------------------------------------------------------------------------------------------------------------------------------------------------------------------------------------------------------------------------------------------------------------------------------------------------------------------------------------------------------------------------------------------------------------------------------------------------------------------------------------------------------------------------------------------------------------------------------------------------------------------------------------------------------------------------------------------------------------------------------------------------------------------------------------------------------------------+\n",
      "|(4096,[1443,2605,3302,3695,3950],[4.593843656082007,3.5399892680553915,6.097921052858282,4.962129760948418,5.538305264922859])                                                                                                                                                                                                                                                                                                                                                                                                                                                                                                                                                                                                                                                                                                          |\n",
      "|(4096,[102,167,1204,1370,1520,2934,3433,3812],[5.086320141179802,4.313766183015446,6.144441068493174,6.746616470847393,3.5208082092035475,3.342524731158873,4.933350796398375,7.802669145096707])                                                                                                                                                                                                                                                                                                                                                                                                                                                                                                                                                                                                                                       |\n",
      "|(4096,[205,433,455,630,1024,1097,1185,1355,1369,1607,1650,1667,1844,1942,1982,2510,2528,2608,2807,3168,3327,3383,3417,3629,3710,3909,4027],[4.764116874359788,4.007179955924512,6.355750162160382,4.053165069166336,5.1029871936650135,4.007179955924512,6.624014148755061,6.1932312326626064,4.431072233210842,5.451293887933229,5.564622573240232,3.963216832503396,5.578045593572373,5.154722868064202,5.297143208105971,7.048897342720326,5.181630320984127,7.048897342720326,5.970087681348397,6.218549040646896,5.874777501544072,4.940468264167238,6.144441068493174,5.619430809735227,5.382301016446277,7.243053357161284,5.7077234168809055])                                                                                                                                                                                  |\n",
      "|(4096,[2194,2357],[5.338815904506538,5.551377346490212])                                                                                                                                                                                                                                                                                                                                                                                                                                                                                                                                                                                                                                                                                                                                                                                |\n",
      "|(4096,[131,147,352,380,389,419,574,726,883,942,1120,1520,1602,1608,1728,1903,2011,2273,2279,2376,2589,2761,2768,2801,2835,2868,2973,3106,3115,3148,3202,3283,3286,3875,3921],[4.45716066929514,4.683613655510717,5.8567589960413935,5.804573242870823,4.819515653749576,3.4222062323990077,5.73897596038501,4.389049243435994,4.236663789133305,5.086320141179802,6.624014148755061,3.5208082092035475,4.578805778717467,5.512662834309521,6.416374783976816,4.298614377994843,3.4222062323990077,4.247321083607293,5.404773872298336,6.746616470847393,5.578045593572373,4.764116874359788,6.416374783976816,5.190762804547399,7.048897342720326,4.700327136484457,5.463270078979945,6.271192774132318,3.8347385077302647,4.466010284572122,5.821667676230123,6.031963085066484,3.870843512372381,5.172580485464208,6.144441068493174])|\n",
      "|(4096,[507,535,560,742,860,1308,1366,1587,1644,1932,1960,2124,2761,2777,2856,3159,3338,3654,3665,3676,3751,4032],[5.591651245628151,4.7581467073732835,5.787766124554442,4.384942461483341,6.624014148755061,3.557751724395232,3.9185313431580964,4.247321083607293,5.053796949474242,6.991738928880378,6.298591748320432,5.7549763017314515,4.764116874359788,5.787766124554442,4.073968196796098,6.5148148567900686,5.061829121171506,7.397204036988542,4.947636753645851,4.11378969098277,3.6795751695886203,5.990290388665916])                                                                                                                                                                                                                                                                                                     |\n",
      "|(4096,[551,748,935,1209,1525,2319,2566,2961,3154,3177,3372,3532,3894,4077],[5.111426062310878,5.257137873492272,6.298591748320432,7.317161329315006,5.662602981600436,3.839477853094161,5.393474317044403,7.802669145096707,5.061829121171506,6.746616470847393,4.683613655510717,5.950285054052217,4.711626691738391,6.746616470847393])                                                                                                                                                                                                                                                                                                                                                                                                                                                                                               |\n",
      "|(4096,[358,390,1727,2363,2478,3150],[3.6516292391980607,6.326762625287129,5.23771978763517,5.8567589960413935,3.996006655326387,5.551377346490212])                                                                                                                                                                                                                                                                                                                                                                                                                                                                                                                                                                                                                                                                                     |\n",
      "|(4096,[1010,1272,1353],[7.1095219645367616,5.086320141179802,4.116919583991698])                                                                                                                                                                                                                                                                                                                                                                                                                                                                                                                                                                                                                                                                                                                                                        |\n",
      "|(4096,[628,898,1239,1353,1366,1496,1882,2350,3263,3323,3540,3725,3736],[4.291123706265686,5.591651245628151,4.317590279453849,4.116919583991698,3.9185313431580964,6.244524527050157,7.1095219645367616,5.427763390523035,5.163611815481448,5.662602981600436,5.970087681348397,5.257137873492272,4.329151101854925])                                                                                                                                                                                                                                                                                                                                                                                                                                                                                                                   |\n",
      "|(4096,[600,937,2308,2840,3051,3864],[4.598906958038554,3.7998917764000963,4.0184795111784455,4.233136448615337,5.3282337951760015,4.520818521067118])                                                                                                                                                                                                                                                                                                                                                                                                                                                                                                                                                                                                                                                                                   |\n",
      "|(4096,[106,303,485,705,1308,1492,1820,1920,2532,2613,2640,2771,2813,2964,3071,3151,3451,3497,3539,3579,3636],[4.474938915316424,5.930866968195115,3.585001366842607,5.930866968195115,3.557751724395232,6.326762625287129,5.525401860086951,4.554234517986962,4.926283629175282,5.2669901699352835,5.181630320984127,6.168538620072235,6.053469290287448,6.704056856428597,4.912297387200542,4.418278881750933,4.161798910169131,3.9686076811382724,4.7581467073732835,5.8567589960413935,4.933350796398375])                                                                                                                                                                                                                                                                                                                           |\n",
      "|(4096,[155,496,937,976,1044,1231,1371,1675,1760,2032,2612,2733,2880,3131,3859],[6.168538620072235,4.912297387200542,3.7998917764000963,4.053165069166336,4.435373315110232,4.7581467073732835,5.2869908366419525,6.326762625287129,3.8538321665458444,5.1029871936650135,6.168538620072235,3.242234852950007,5.500084052102661,4.578805778717467,4.554234517986962])                                                                                                                                                                                                                                                                                                                                                                                                                                                                    |\n",
      "|(4096,[231,344,787,796,822,1346,1835,2359,2508,2620,2690,2949,3411,3458,3645,4013],[6.5148148567900686,6.168538620072235,4.563990692932326,5.23771978763517,5.3712511802596925,7.684886109440323,6.480913305114387,7.579525593782497,6.83758824905312,4.926283629175282,5.564622573240232,5.633615444727184,5.3712511802596925,3.4206425104228253,6.075448197006223,6.075448197006223])                                                                                                                                                                                                                                                                                                                                                                                                                                                 |\n",
      "|(4096,[1100,1168,1290,1389,1750,1787,1858,2580,2934,3329,3744,3749,3776,3798,3890,3975],[4.640363671716901,4.838685569857296,4.764116874359788,3.493549281230913,6.0109096758686515,12.106938580574896,5.317762495308706,4.661754861698218,3.342524731158873,4.891678099997806,5.094618943994496,5.061829121171506,4.5302525533004765,5.893126640212269,5.297143208105971,5.257137873492272])                                                                                                                                                                                                                                                                                                                                                                                                                                           |\n",
      "|(4096,[389,1080,1520,1551,2041,2624,2837,2840,2883,2957,3056,3139,3601],[4.819515653749576,3.788540916731407,3.5208082092035475,5.218671592664475,7.802669145096707,5.119936751978787,4.444031377853348,4.233136448615337,3.941939434056111,6.1932312326626064,5.692455944750117,5.3282337951760015,5.821667676230123])                                                                                                                                                                                                                                                                                                                                                                                                                                                                                                                 |\n",
      "|(4096,[27,1629,1985,3092],[5.037923600317951,6.3856031253100625,4.053165069166336,5.037923600317951])                                                                                                                                                                                                                                                                                                                                                                                                                                                                                                                                                                                                                                                                                                                                   |\n",
      "|(4096,[31,121,123,370,1149,1343,1369,1575,2217,2532,2660,2687,2773,2934,3001,3079],[3.5070858669484464,5.338815904506538,5.538305264922859,3.9185313431580964,6.053469290287448,2.566892297023568,4.431072233210842,4.80070632179208,4.098285504446805,4.926283629175282,3.5019881498767775,2.8285249595828663,3.3126292663622467,3.342524731158873,5.512662834309521,3.7530604767159974])                                                                                                                                                                                                                                                                                                                                                                                                                                              |\n",
      "|(4096,[612,804,892,1051,1104,1493,2160,2422,2830,3215,3350,3783,3964],[4.215683998664111,6.053469290287448,5.525401860086951,6.0109096758686515,5.564622573240232,5.3282337951760015,4.089097078392399,5.2869908366419525,4.740447130273883,6.83758824905312,6.991738928880378,4.333034601881323,4.832254679527005])                                                                                                                                                                                                                                                                                                                                                                                                                                                                                                                    |\n",
      "|(4096,[755,1188,1328,1381,2247,2291,2883,3256,3292,3567],[5.137178558413292,5.307399708273159,2.7377035064554036,4.5302525533004765,5.970087681348397,5.662602981600436,3.941939434056111,4.954857001619338,5.564622573240232,4.838685569857296])                                                                                                                                                                                                                                                                                                                                                                                                                                                                                                                                                                                       |\n",
      "+----------------------------------------------------------------------------------------------------------------------------------------------------------------------------------------------------------------------------------------------------------------------------------------------------------------------------------------------------------------------------------------------------------------------------------------------------------------------------------------------------------------------------------------------------------------------------------------------------------------------------------------------------------------------------------------------------------------------------------------------------------------------------------------------------------------------------------------+\n",
      "only showing top 20 rows\n"
     ]
    }
   ],
   "source": [
    "# Stage 2 - TFIDF and Normalization \n",
    "from pyspark.sql.functions import col, collect_list, struct, first\n",
    "from pyspark.ml.feature import HashingTF, IDF\n",
    "from pyspark.ml.feature import Normalizer\n",
    "from pyspark.sql.types import StringType, ArrayType\n",
    "\n",
    "# Aggregate words into list per id, author (currently they are a single field per row) and retain text column\n",
    "df_grouped = df_train_filtered.groupBy(\"id\", \"author\").agg(\n",
    "    collect_list(\"word\").alias(\"words\"),\n",
    "    first('clean_text').alias('clean_text')\n",
    ")\n",
    "\n",
    "# Compute HashingTF\n",
    "hashingTF = HashingTF(inputCol='words', outputCol='tf', numFeatures=4096) # I selected 4096 for no particular reason, this can be tweaked.                           \n",
    "tf_data_train = hashingTF.transform(df_grouped)\n",
    "\n",
    "# Compute IDF\n",
    "idf = IDF(inputCol='tf', outputCol='tfidf', minDocFreq=3)\n",
    "idf_model_train = idf.fit(tf_data_train)\n",
    "tfidf_data_train = idf_model_train.transform(tf_data_train)\n",
    "\n",
    "# Normalize the data\n",
    "normalizer = Normalizer(inputCol='tfidf', outputCol='tfidf_norm', p=2.0)\n",
    "tfidf_data_train = normalizer.transform(tfidf_data_train)\n",
    "\n",
    "# Drop unneeded columns and show a few rows\n",
    "tfidf_data_train = tfidf_data_train.drop('tf', 'words')\n",
    "tfidf_data_train.select('tfidf').show(truncate=False)"
   ]
  },
  {
   "cell_type": "markdown",
   "id": "c01db475",
   "metadata": {},
   "source": [
    "The data has this structure: `[Vector length], [indicies], [tf-idf values]`"
   ]
  },
  {
   "cell_type": "code",
   "execution_count": null,
   "id": "9fb5c7cb",
   "metadata": {},
   "outputs": [],
   "source": [
    "# Stage 2 Visualizations (ex: Most Important Word By Author)\n",
    "from pyspark.ml.feature import CountVectorizer, IDF\n",
    "from pyspark.sql.functions import col\n",
    "import pandas as pd\n",
    "import matplotlib.pyplot as plt\n",
    "from collections import defaultdict\n",
    "\n",
    "# Redo TFIDF: Need to use CountVectorizer here to retain the words for future analysis\n",
    "cv = CountVectorizer(inputCol='words', outputCol='tf_cv', minDF=3.0, vocabSize=4096)\n",
    "cv_model = cv.fit(tf_data_train)\n",
    "tf_cv_data = cv_model.transform(tf_data_train)\n",
    "idf_cv = IDF(minDocFreq=3, inputCol='tf_cv', outputCol='tfidf')\n",
    "idf_cv_model = idf.fit(tf_cv_data)\n",
    "tfidf_cv_data = idf_cv_model.transform(tf_cv_data).drop('tf_cv')\n",
    "tfidf_cv_data.cache()\n",
    "\n",
    "# Here I have to switch to using Pandas, as Spark would have timeout issues when trying to parse the TFIDF dataframe. Since this is just for visualization this should be fine\n",
    "tfidf_pandas = tfidf_cv_data.select('author', 'tfidf').toPandas()\n",
    "\n",
    "# Group the tfidf vectors per author\n",
    "top_words_per_author = defaultdict(list)\n",
    "for _, row in tfidf_pandas.iterrows():\n",
    "    author = row['author']\n",
    "    vector = row['tfidf']\n",
    "    for index, value in zip(vector.indices, vector.values):\n",
    "        top_words_per_author[author].append((index, value))\n",
    "\n",
    "# Now compute the average tfidf value per word per author\n",
    "avg_tfidf_per_author = {}\n",
    "vocab = cv_model.vocabulary\n",
    "for author, terms in top_words_per_author.items():\n",
    "    # For each term get the sum and counts\n",
    "    index_sums = defaultdict(lambda: {'sum': 0.0, 'count': 0})\n",
    "    for index, value in terms:\n",
    "        index_sums[index]['sum'] += value\n",
    "        index_sums[index]['count'] += 1\n",
    "    \n",
    "    # Now compute the averages\n",
    "    avg_tfidf = [(vocab[index], data['sum'] / data['count']) for index, data in index_sums.items()]\n",
    "\n",
    "    # Sort averages by descending average value (element 1 in avg_tfidf above) and get top 10 words\n",
    "    avg_tfidf = sorted(avg_tfidf, key=lambda x: x[1], reverse=True)[:10]\n",
    "\n",
    "    # Assign them to the correct author\n",
    "    avg_tfidf_per_author[author] = pd.DataFrame(avg_tfidf, columns=['word', 'avg(value)'])\n",
    "\n",
    "# Plot the best words per author\n",
    "for author, df in avg_tfidf_per_author.items():\n",
    "    plt.figure(figsize=(10, 6))\n",
    "    plt.bar(df['word'], df['avg(value)'], color='lightblue')\n",
    "    plt.xlabel('Word')\n",
    "    plt.ylabel('Average TF-IDF')\n",
    "    plt.title(f'Top 10 Words for {author}')\n",
    "    plt.xticks(rotation=45, ha='right')\n",
    "    plt.tight_layout()\n",
    "    plt.show()"
   ]
  },
  {
   "cell_type": "markdown",
   "id": "c2de907c",
   "metadata": {},
   "source": [
    "<hr>\n",
    "\n",
    "### Stage 3 - Machine Learning\n",
    "1) Perform train/test split\n",
    "2) Perform algorithmic analysis to assess and predict test labels\n",
    "    - Use as many algorithms as you need to get a good answer.\n",
    "    - Supervised: logistic regression, random forest, support vector machines, etc.\n",
    "    - Unsupervised: K-means, dimensionality reduction, PCA, etc."
   ]
  },
  {
   "cell_type": "code",
   "execution_count": 141,
   "id": "5214495b",
   "metadata": {},
   "outputs": [
    {
     "name": "stdout",
     "output_type": "stream",
     "text": [
      "Training set size: 15602 rows\n",
      "Test set size: 3974 rows\n"
     ]
    }
   ],
   "source": [
    "# Stage 3 Solution (Due by Monday 7/21)\n",
    "# Each team member will do 2 algorithms of their choosing\n",
    "\n",
    "# Train test split for below\n",
    "train_data, test_data = tfidf_data_train.randomSplit([0.8, 0.2], seed=42)\n",
    "train_data.cache()\n",
    "test_data.cache()\n",
    "print(f\"Training set size: {train_data.count()} rows\")\n",
    "print(f\"Test set size: {test_data.count()} rows\")"
   ]
  },
  {
   "cell_type": "code",
   "execution_count": 144,
   "id": "ef6d7604",
   "metadata": {},
   "outputs": [
    {
     "name": "stdout",
     "output_type": "stream",
     "text": [
      "---------------- Logistic Regression Predictions ----------------\n",
      "+-----------------------------------------------------------------------------------------------------------------------------------------------------------------------------------------------------------------------------------------+------+-----+----------+\n",
      "|clean_text                                                                                                                                                                                                                               |author|label|prediction|\n",
      "+-----------------------------------------------------------------------------------------------------------------------------------------------------------------------------------------------------------------------------------------+------+-----+----------+\n",
      "|soon they became excessively numerous like impious catacombs of nameless menace and their pungent odour of decay grew quite unbearable                                                                                                   |HPL   |2.0  |0.0       |\n",
      "|he looks to number one                                                                                                                                                                                                                   |EAP   |0.0  |0.0       |\n",
      "|the other face may wear off some                                                                                                                                                                                                         |HPL   |2.0  |2.0       |\n",
      "|it seemed in any event to be contagious for hannah bowen one of the two servants died of it in the following june                                                                                                                        |HPL   |2.0  |1.0       |\n",
      "|my cognizance of the pit had become known to the inquisitorial agents the pit whose horrors had been destined for so bold a recusant as myself the pit typical of hell and regarded by rumor as the ultima thule of all their punishments|EAP   |0.0  |2.0       |\n",
      "+-----------------------------------------------------------------------------------------------------------------------------------------------------------------------------------------------------------------------------------------+------+-----+----------+\n",
      "only showing top 5 rows\n",
      "\n",
      "\n",
      "---------------- Train Data Cluster Assignments ----------------\n",
      "+-------+-------------------------------------------------------------------------------------------------------------------------------------------------------------------------------------------------+------+----------+\n",
      "|id     |clean_text                                                                                                                                                                                       |author|prediction|\n",
      "+-------+-------------------------------------------------------------------------------------------------------------------------------------------------------------------------------------------------+------+----------+\n",
      "|id00070|yet even then i have checked thick coming fears with one thought i would not fear death for the emotions that linked us must be immortal                                                         |MWS   |2         |\n",
      "|id00093|seems that human folks has got a kind o relation to sech water beasts that everything alive come aout o the water onct an only needs a little change to go back agin                             |HPL   |2         |\n",
      "|id00361|this spirit existed as a breath a wish a far off thought until communicated to adrian who imbibed it with ardour and instantly engaged himself in plans for its execution                        |MWS   |1         |\n",
      "|id01530|still i would not hurry on i would pause for ever on the recollections of these happy weeks i would repeat every word and how many do i remember record every enchantment of the faery habitation|MWS   |2         |\n",
      "|id01661|it first rolled down the side of the steeple then lodge for a few seconds in the gutter and then made its way with a plunge into the middle of the street                                        |EAP   |1         |\n",
      "+-------+-------------------------------------------------------------------------------------------------------------------------------------------------------------------------------------------------+------+----------+\n",
      "only showing top 5 rows\n",
      "\n",
      "\n",
      "---------------- Test Data Cluster Assignments ----------------\n",
      "+-------+-----------------------------------------------------------------------------------------------------------------------------------------------------------------------------------------------------------------------------------------+----------+\n",
      "|id     |clean_text                                                                                                                                                                                                                               |prediction|\n",
      "+-------+-----------------------------------------------------------------------------------------------------------------------------------------------------------------------------------------------------------------------------------------+----------+\n",
      "|id00095|soon they became excessively numerous like impious catacombs of nameless menace and their pungent odour of decay grew quite unbearable                                                                                                   |1         |\n",
      "|id01803|he looks to number one                                                                                                                                                                                                                   |0         |\n",
      "|id02318|the other face may wear off some                                                                                                                                                                                                         |0         |\n",
      "|id04131|it seemed in any event to be contagious for hannah bowen one of the two servants died of it in the following june                                                                                                                        |1         |\n",
      "|id06088|my cognizance of the pit had become known to the inquisitorial agents the pit whose horrors had been destined for so bold a recusant as myself the pit typical of hell and regarded by rumor as the ultima thule of all their punishments|1         |\n",
      "+-------+-----------------------------------------------------------------------------------------------------------------------------------------------------------------------------------------------------------------------------------------+----------+\n",
      "only showing top 5 rows\n"
     ]
    }
   ],
   "source": [
    "# Aidan: Logistic Regression, Agglomerative Heirarchical Clustering\n",
    "\n",
    "# ---------- Logistic Regression ----------\n",
    "from pyspark.ml.classification import LogisticRegression\n",
    "from pyspark.ml.feature import StringIndexer\n",
    "\n",
    "# Convert author labels to numeric index\n",
    "indexer = StringIndexer(inputCol='author', outputCol='label')\n",
    "indexer_model = indexer.fit(train_data)\n",
    "indexed_train = indexer_model.transform(train_data)\n",
    "indexed_test = indexer_model.transform(test_data)\n",
    "\n",
    "# Train Logisitic Regression Model\n",
    "lr = LogisticRegression(featuresCol='tfidf', labelCol='label', maxIter=1000, regParam=0.01)\n",
    "lr_model = lr.fit(indexed_train)\n",
    "\n",
    "# Predict test data and convert numerical labels back to authors\n",
    "lr_predictions = lr_model.transform(indexed_test)\n",
    "\n",
    "label_mapping = indexer_model.labels  # Get mapping of indices to author names (e.g., ['EAP', 'HPL', 'MWS'])\n",
    "lr_predictions = lr_predictions.withColumn(\"predicted_author\",\n",
    "    col(\"prediction\").cast(\"integer\").cast(\"string\"))  # Convert prediction to string\n",
    "lr_predictions = lr_predictions.replace(\n",
    "    to_replace={str(i): label_mapping[i] for i in range(len(label_mapping))},\n",
    "    subset=[\"predicted_author\"]\n",
    ")\n",
    "\n",
    "# Print top 5 predictions\n",
    "print(\"---------------- Logistic Regression Predictions ----------------\")\n",
    "lr_predictions.select(\"clean_text\", \"author\", \"label\", \"prediction\").show(5, truncate=False)\n",
    "\n",
    "# ---------- Agglomerative Heirarchical Clustering (Using Bisecting KMeans) ----------\n",
    "from pyspark.ml.clustering import BisectingKMeans\n",
    "\n",
    "# Train the Bisecting KMeans model\n",
    "bkm = BisectingKMeans(featuresCol='tfidf', k=3, seed=42)\n",
    "bkm_model = bkm.fit(train_data)\n",
    "\n",
    "# Cluster predictions on train and test data\n",
    "bkm_train_predictions = bkm_model.transform(train_data)\n",
    "bkm_test_predictions = bkm_model.transform(test_data)\n",
    "\n",
    "# Show sample cluster assignments for training data\n",
    "print(\"\\n\\n---------------- Train Data Cluster Assignments ----------------\")\n",
    "bkm_train_predictions.select(\"id\", \"clean_text\", \"author\", \"prediction\").show(5, truncate=False)\n",
    "\n",
    "# Show sample cluster assignments for test data\n",
    "print(\"\\n\\n---------------- Test Data Cluster Assignments ----------------\")\n",
    "bkm_test_predictions.select(\"id\", \"clean_text\", \"prediction\").show(5, truncate=False)"
   ]
  },
  {
   "cell_type": "code",
   "execution_count": null,
   "id": "e686e148",
   "metadata": {},
   "outputs": [],
   "source": [
    "# Daniel: SVC, K-Means\n"
   ]
  },
  {
   "cell_type": "code",
   "execution_count": null,
   "id": "74320fe0",
   "metadata": {},
   "outputs": [],
   "source": [
    "# Claudine: SVM, DBSCAN\n"
   ]
  },
  {
   "cell_type": "code",
   "execution_count": null,
   "id": "952215d3",
   "metadata": {},
   "outputs": [],
   "source": [
    "# Radhika: Random Forest, PCA"
   ]
  },
  {
   "cell_type": "markdown",
   "id": "774667f2",
   "metadata": {},
   "source": [
    "<hr>\n",
    "\n",
    "### Stage 4 - Evaluation and Visualization\n",
    "1) Choose a metric strategy to assess algorithmic performance like accuracy, precision, recall, or F1 score\n",
    "2) Visualize confusion matrix, correlations, and similar\n",
    "3) Identify important features contributing to classification\n",
    "4) Write a 2-3 sentence minimum of findings, learnings, and what you would do next"
   ]
  },
  {
   "cell_type": "code",
   "execution_count": null,
   "id": "ee704b93",
   "metadata": {},
   "outputs": [],
   "source": [
    "# Stage 4 Solution (Due by Monday 7/21)\n",
    "# Each team member will evaluate their models"
   ]
  },
  {
   "cell_type": "code",
   "execution_count": 145,
   "id": "cd2986ac",
   "metadata": {},
   "outputs": [
    {
     "name": "stdout",
     "output_type": "stream",
     "text": [
      "Logistic Regression F1 Score: 0.6733586193041974\n"
     ]
    },
    {
     "data": {
      "image/png": "[encoded data removed]",
      "text/plain": [
       "<Figure size 800x600 with 2 Axes>"
      ]
     },
     "metadata": {},
     "output_type": "display_data"
    },
    {
     "name": "stdout",
     "output_type": "stream",
     "text": [
      "Bisecting K-Means Silhouette Score: -0.0224628774973654\n",
      "+----------+------+-----+\n",
      "|prediction|author|count|\n",
      "+----------+------+-----+\n",
      "|         0|   MWS| 2274|\n",
      "|         1|   MWS| 1432|\n",
      "|         2|   EAP| 1428|\n",
      "|         2|   HPL| 1294|\n",
      "|         0|   EAP| 3557|\n",
      "|         0|   HPL| 1478|\n",
      "|         2|   MWS| 1120|\n",
      "|         1|   HPL| 1659|\n",
      "|         1|   EAP| 1360|\n",
      "+----------+------+-----+\n",
      "\n"
     ]
    },
    {
     "data": {
      "image/png": "[encoded data removed]",
      "text/plain": [
       "<Figure size 600x400 with 1 Axes>"
      ]
     },
     "metadata": {},
     "output_type": "display_data"
    }
   ],
   "source": [
    "# Aidan\n",
    "# ---------- Logistic Regression ----------\n",
    "from pyspark.ml.evaluation import MulticlassClassificationEvaluator\n",
    "import pandas as pd\n",
    "import seaborn as sns\n",
    "import matplotlib.pyplot as plt\n",
    "from sklearn.metrics import confusion_matrix\n",
    "\n",
    "evaluator = MulticlassClassificationEvaluator(labelCol='label', predictionCol='prediction', metricName='f1')\n",
    "f1_score = evaluator.evaluate(lr_predictions)\n",
    "print(f\"Logistic Regression F1 Score: {f1_score}\")\n",
    "\n",
    "# Get confusion matrix\n",
    "df_lr_predictions = lr_predictions.select('label', 'prediction').toPandas()\n",
    "conf_mat = confusion_matrix(df_lr_predictions['label'], df_lr_predictions['prediction'])\n",
    "\n",
    "# Plot confusion matrix\n",
    "plt.figure(figsize=(8, 6))\n",
    "sns.heatmap(conf_mat, annot=True, fmt='d', cmap='Blues', xticklabels=label_mapping, yticklabels=label_mapping)\n",
    "plt.title(\"Logistic Regression Confusion Matrix\")\n",
    "plt.xlabel(\"Predicted Author\")\n",
    "plt.ylabel(\"True Author\")\n",
    "plt.show()\n",
    "\n",
    "# ---------- Agglomerative Heirarchical Clustering (Using Bisecting KMeans) ----------\n",
    "from pyspark.ml.evaluation import ClusteringEvaluator\n",
    "from pyspark.sql.functions import count\n",
    "\n",
    "# Calculate silhouette score\n",
    "evaluator = ClusteringEvaluator(featuresCol='tfidf', predictionCol='prediction')\n",
    "silhouette = evaluator.evaluate(bkm_train_predictions)\n",
    "print(f\"Bisecting K-Means Silhouette Score: {silhouette}\")\n",
    "\n",
    "# Map clusters to authors\n",
    "cluster_author_counts = bkm_train_predictions.groupBy(\"prediction\", \"author\").agg(count(\"*\").alias(\"count\"))\n",
    "cluster_author_counts.show()\n",
    "\n",
    "# Plot cluster sizes\n",
    "cluster_counts_pd = bkm_train_predictions.groupBy(\"prediction\").count().toPandas()\n",
    "plt.figure(figsize=(6, 4))\n",
    "sns.barplot(data=cluster_counts_pd, x=\"prediction\", y=\"count\")\n",
    "plt.title(\"Cluster Sizes (Bisecting K-Means)\")\n",
    "plt.xlabel(\"Cluster ID\")\n",
    "plt.ylabel(\"Number of Texts\")\n",
    "plt.show()"
   ]
  },
  {
   "cell_type": "markdown",
   "id": "6fbbcf63",
   "metadata": {},
   "source": [
    "##### Aidan Analysis: TODO"
   ]
  },
  {
   "cell_type": "code",
   "execution_count": null,
   "id": "36824696",
   "metadata": {},
   "outputs": [],
   "source": [
    "# Daniel"
   ]
  },
  {
   "cell_type": "code",
   "execution_count": null,
   "id": "0d9ef0e6",
   "metadata": {},
   "outputs": [],
   "source": [
    "# Claudine"
   ]
  },
  {
   "cell_type": "code",
   "execution_count": null,
   "id": "efee5221",
   "metadata": {},
   "outputs": [],
   "source": [
    "# Radhika"
   ]
  }
 ],
 "metadata": {
  "kernelspec": {
   "display_name": "Python 3",
   "language": "python",
   "name": "python3"
  },
  "language_info": {
   "codemirror_mode": {
    "name": "ipython",
    "version": 3
   },
   "file_extension": ".py",
   "mimetype": "text/x-python",
   "name": "python",
   "nbconvert_exporter": "python",
   "pygments_lexer": "ipython3",
   "version": "3.13.5"
  }
 },
 "nbformat": 4,
 "nbformat_minor": 5
}
