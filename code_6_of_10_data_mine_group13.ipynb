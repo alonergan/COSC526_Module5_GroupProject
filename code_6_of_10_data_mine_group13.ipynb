{
 "cells": [
  {
   "cell_type": "markdown",
   "id": "8a903cc6",
   "metadata": {},
   "source": [
    "# Module 5 - Spooky Authorship Identification\n",
    "#### Group 13\n",
    "- Aidan Lonergan\n",
    "- Daniel Lillard\n",
    "- Radhika Garg\n",
    "- Claudine Uwiragiye"
   ]
  },
  {
   "cell_type": "markdown",
   "id": "5de4c9a6",
   "metadata": {},
   "source": [
    "<hr>\n",
    "\n",
    "### Objective\n",
    "1) Accurately identify the author of the sentences in the test set\n",
    "2) Perform all work with Apache Spark"
   ]
  },
  {
   "cell_type": "markdown",
   "id": "e6b1cba3",
   "metadata": {},
   "source": [
    "<hr>\n",
    "\n",
    "### Stage 0 - Import Data\n",
    "1) Create a code notebook called: code_6_of_10_data_mine_group13.ipynb\n",
    "2) Load the dataset into Spark data objects and explore structure, size, and distribution of information"
   ]
  },
  {
   "cell_type": "code",
   "execution_count": null,
   "id": "ad0010f6",
   "metadata": {},
   "outputs": [],
   "source": [
    "# Stage 0 Solution\n",
    "from pyspark.sql import SparkSession\n",
    "\n",
    "spark = SparkSession.builder.appName(\"Module_5_Project\").getOrCreate()\n",
    "\n",
    "df_train = spark.read.csv('./train.csv')\n"
   ]
  },
  {
   "cell_type": "markdown",
   "id": "5e72e21a",
   "metadata": {},
   "source": [
    "<hr>\n",
    "\n",
    "### Stage 1 - Data Preparation (Exploratory data analysis and text mining pre-processing)\n",
    "1) Perform exploratory data analysis and create visualizations and tables as needed\n",
    "2) Text Preprocessing: perform tasks like tokenization and stopwords removal to clean text data\n",
    "    - Tokenize - split the text into individual words aka tokens.\n",
    "    - Remove stop.words - frequently used pronouns and personal references.\n",
    "        - Top ten include: I, you, he, she, it, we, they, me, him, her\n",
    "    - Lemmatization - convert words to their root (optional).\n",
    "        - Lemmatization is a text normalization technique that reduces words to their base or dictionary form (lemma). Use to reduce inflected or derived words to their root form for better analysis and modeling outcomes"
   ]
  },
  {
   "cell_type": "code",
   "execution_count": null,
   "id": "326b9653",
   "metadata": {},
   "outputs": [],
   "source": [
    "# Stage 1 Analysis (Due Friday 7/18)\n",
    "# Radhika\n"
   ]
  },
  {
   "cell_type": "code",
   "execution_count": null,
   "id": "2a71be43",
   "metadata": {},
   "outputs": [],
   "source": [
    "# Stage 1 Visualizations (Due Friday 7/18)\n",
    "# Claudine"
   ]
  },
  {
   "cell_type": "markdown",
   "id": "93f5b4b8",
   "metadata": {},
   "source": [
    "<hr>\n",
    "\n",
    "### Stage 2 - Feature Extraction\n",
    "1) Perform TFIDF to quantify word importance <href><https://en.wikipedia.org/wiki/Tf%E2%80%93idf></href>\n",
    "2) Normalize is scaling or standardizing the numerical features to a standard range or distribution\n",
    "    - In text mining, normalization vectorizes features with methods like TFIDF, a numerical measurement, to ensure a consistent scale\n",
    "    - It handles variations in the magnitude of feature values impacting machine-learning algorithm performance. Normalize the features to ensure a similar scale and prevent features with larger values from dominating the analysis or modeling process"
   ]
  },
  {
   "cell_type": "code",
   "execution_count": null,
   "id": "c2848f0c",
   "metadata": {},
   "outputs": [],
   "source": [
    "# Stage 2 - TFIDF and Normalization (Due Friday 7/18)\n",
    "# Daniel"
   ]
  },
  {
   "cell_type": "code",
   "execution_count": null,
   "id": "9fb5c7cb",
   "metadata": {},
   "outputs": [],
   "source": [
    "# Stage 2 Visualizations (ex: Random Forest Feature Importance) (Due Friday 7/18)\n",
    "# Aidan"
   ]
  },
  {
   "cell_type": "markdown",
   "id": "c2de907c",
   "metadata": {},
   "source": [
    "<hr>\n",
    "\n",
    "### Stage 3 - Machine Learning\n",
    "1) Perform train/test split\n",
    "2) Perform algorithmic analysis to assess and predict test labels\n",
    "    - Use as many algorithms as you need to get a good answer.\n",
    "    - Supervised: logistic regression, random forest, support vector machines, etc.\n",
    "    - Unsupervised: K-means, dimensionality reduction, PCA, etc."
   ]
  },
  {
   "cell_type": "code",
   "execution_count": null,
   "id": "5214495b",
   "metadata": {},
   "outputs": [],
   "source": [
    "# Stage 3 Solution (Due by Monday 7/21)\n",
    "# Each team member will do 2 algorithms of their choosing"
   ]
  },
  {
   "cell_type": "code",
   "execution_count": null,
   "id": "ef6d7604",
   "metadata": {},
   "outputs": [],
   "source": [
    "# Aidan:\n"
   ]
  },
  {
   "cell_type": "code",
   "execution_count": null,
   "id": "e686e148",
   "metadata": {},
   "outputs": [],
   "source": [
    "# Daniel: SVC, K-Means\n"
   ]
  },
  {
   "cell_type": "code",
   "execution_count": null,
   "id": "74320fe0",
   "metadata": {},
   "outputs": [],
   "source": [
    "# Claudine:\n"
   ]
  },
  {
   "cell_type": "code",
   "execution_count": null,
   "id": "952215d3",
   "metadata": {},
   "outputs": [],
   "source": [
    "# Radhika:"
   ]
  },
  {
   "cell_type": "markdown",
   "id": "774667f2",
   "metadata": {},
   "source": [
    "<hr>\n",
    "\n",
    "### Stage 4 - Evaluation and Visualization\n",
    "1) Choose a metric strategy to assess algorithmic performance like accuracy, precision, recall, or F1 score\n",
    "2) Visualize confusion matrix, correlations, and similar\n",
    "3) Identify important features contributing to classification\n",
    "4) Write a 2-3 sentence minimum of findings, learnings, and what you would do next"
   ]
  },
  {
   "cell_type": "code",
   "execution_count": null,
   "id": "ee704b93",
   "metadata": {},
   "outputs": [],
   "source": [
    "# Stage 4 Solution (Due by Monday 7/21)\n",
    "# Each team member will evaluate their models"
   ]
  },
  {
   "cell_type": "code",
   "execution_count": null,
   "id": "cd2986ac",
   "metadata": {},
   "outputs": [],
   "source": [
    "# Aidan"
   ]
  },
  {
   "cell_type": "code",
   "execution_count": null,
   "id": "36824696",
   "metadata": {},
   "outputs": [],
   "source": [
    "# Daniel"
   ]
  },
  {
   "cell_type": "code",
   "execution_count": null,
   "id": "0d9ef0e6",
   "metadata": {},
   "outputs": [],
   "source": [
    "# Claudine"
   ]
  },
  {
   "cell_type": "code",
   "execution_count": null,
   "id": "efee5221",
   "metadata": {},
   "outputs": [],
   "source": [
    "# Radhika"
   ]
  }
 ],
 "metadata": {
  "kernelspec": {
   "display_name": "Python 3",
   "language": "python",
   "name": "python3"
  },
  "language_info": {
   "codemirror_mode": {
    "name": "ipython",
    "version": 3
   },
   "file_extension": ".py",
   "mimetype": "text/x-python",
   "name": "python",
   "nbconvert_exporter": "python",
   "pygments_lexer": "ipython3",
   "version": "3.13.5"
  }
 },
 "nbformat": 4,
 "nbformat_minor": 5
}
