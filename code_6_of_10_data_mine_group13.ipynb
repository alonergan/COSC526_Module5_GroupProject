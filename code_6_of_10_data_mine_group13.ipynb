{
 "cells": [
  {
   "cell_type": "markdown",
   "id": "8a903cc6",
   "metadata": {},
   "source": [
    "# Module 5 - Spooky Authorship Identification\n",
    "#### Group 13\n",
    "- Aidan Lonergan\n",
    "- Daniel Lillard\n",
    "- Radhika Garg\n",
    "- Claudine Uwiragiye"
   ]
  },
  {
   "cell_type": "markdown",
   "id": "5de4c9a6",
   "metadata": {},
   "source": [
    "<hr>\n",
    "\n",
    "### Objective\n",
    "1) Accurately identify the author of the sentences in the test set\n",
    "2) Perform all work with Apache Spark"
   ]
  },
  {
   "cell_type": "markdown",
   "id": "e6b1cba3",
   "metadata": {},
   "source": [
    "<hr>\n",
    "\n",
    "### Stage 0 - Import Data\n",
    "1) Create a code notebook called: code_6_of_10_data_mine_group13.ipynb\n",
    "2) Load the dataset into Spark data objects and explore structure, size, and distribution of information"
   ]
  },
  {
   "cell_type": "code",
   "execution_count": 2,
   "id": "ad0010f6",
   "metadata": {},
   "outputs": [
    {
     "name": "stderr",
     "output_type": "stream",
     "text": [
      "[nltk_data] Downloading package stopwords to\n",
      "[nltk_data]     C:\\Users\\acct_pers\\AppData\\Roaming\\nltk_data...\n",
      "[nltk_data]   Package stopwords is already up-to-date!\n"
     ]
    }
   ],
   "source": [
    "# Stage 0 Solution\n",
    "from pyspark.sql import SparkSession\n",
    "import pandas as pd\n",
    "import matplotlib.pyplot as plt\n",
    "from collections import Counter\n",
    "import re\n",
    "import nltk\n",
    "from nltk.corpus import stopwords\n",
    "\n",
    "nltk.download('stopwords')\n",
    "\n",
    "# Start spark session and load training data set\n",
    "spark = SparkSession.builder.appName(\"Module_5_Project\").getOrCreate()\n",
    "df_train = spark.read.csv('./train.csv', header=True, inferSchema=True, quote='\"', escape='\"')"
   ]
  },
  {
   "cell_type": "markdown",
   "id": "823c498c",
   "metadata": {},
   "source": [
    "##### Summary"
   ]
  },
  {
   "cell_type": "code",
   "execution_count": 3,
   "id": "936b404b",
   "metadata": {},
   "outputs": [
    {
     "name": "stdout",
     "output_type": "stream",
     "text": [
      "==== DataSet Shape ====\n",
      "3 columns\n",
      "19579 rows\n",
      "\n",
      "==== DataSet Descriptive Statistics ====\n",
      "+-------+-------+--------------------+------+\n",
      "|summary|     id|                text|author|\n",
      "+-------+-------+--------------------+------+\n",
      "|  count|  19579|               19579| 19579|\n",
      "|   mean|   NULL|                NULL|  NULL|\n",
      "| stddev|   NULL|                NULL|  NULL|\n",
      "|    min|id00001|\" Odenheimer, res...|   EAP|\n",
      "|    max|id27971|you could not hop...|   MWS|\n",
      "+-------+-------+--------------------+------+\n",
      "\n",
      "None\n",
      "\n",
      "==== DataSet Unique Authors ====\n",
      "+------+\n",
      "|author|\n",
      "+------+\n",
      "|   MWS|\n",
      "|   HPL|\n",
      "|   EAP|\n",
      "+------+\n",
      "\n",
      "None\n"
     ]
    }
   ],
   "source": [
    "# Print size and descriptive statistics\n",
    "print(\"==== DataSet Shape ====\")\n",
    "print(f\"{len(df_train.columns)} columns\\n{df_train.count()} rows\\n\")\n",
    "\n",
    "print(\"==== DataSet Descriptive Statistics ====\")\n",
    "print(df_train.describe().show())\n",
    "\n",
    "print(\"\\n==== DataSet Unique Authors ====\")\n",
    "print(df_train.select('author').distinct().show())"
   ]
  },
  {
   "cell_type": "markdown",
   "id": "5e72e21a",
   "metadata": {},
   "source": [
    "<hr>\n",
    "\n",
    "### Stage 1 - Data Preparation (Exploratory data analysis and text mining pre-processing)\n",
    "1) Perform exploratory data analysis and create visualizations and tables as needed\n",
    "2) Text Preprocessing: perform tasks like tokenization and stopwords removal to clean text data\n",
    "    - Tokenize - split the text into individual words aka tokens.\n",
    "    - Remove stop.words - frequently used pronouns and personal references.\n",
    "        - Top ten include: I, you, he, she, it, we, they, me, him, her\n",
    "    - Lemmatization - convert words to their root (optional).\n",
    "        - Lemmatization is a text normalization technique that reduces words to their base or dictionary form (lemma). Use to reduce inflected or derived words to their root form for better analysis and modeling outcomes"
   ]
  },
  {
   "cell_type": "code",
   "execution_count": 66,
   "id": "326b9653",
   "metadata": {},
   "outputs": [
    {
     "name": "stdout",
     "output_type": "stream",
     "text": [
      "root\n",
      " |-- id: string (nullable = true)\n",
      " |-- text: string (nullable = true)\n",
      " |-- author: string (nullable = true)\n",
      "\n",
      "+------+-----+\n",
      "|author|count|\n",
      "+------+-----+\n",
      "|   MWS| 6044|\n",
      "|   HPL| 5635|\n",
      "|   EAP| 7900|\n",
      "+------+-----+\n",
      "\n",
      "[('one', 1623), ('upon', 1411), ('could', 1316), ('would', 1241), ('man', 779), ('time', 730), ('yet', 715), ('said', 704), ('even', 701), ('might', 629), ('old', 616), ('like', 613), ('first', 602), ('us', 596), ('must', 594), ('never', 570), ('life', 569), ('night', 566), ('made', 565), ('found', 559), ('seemed', 544), ('eyes', 540), ('every', 535), ('little', 531), ('day', 523), ('still', 519), ('great', 512), ('long', 511), ('saw', 502), ('many', 491)]\n"
     ]
    },
    {
     "data": {
      "image/png": "[encoded data removed]",
      "text/plain": [
       "<Figure size 1200x600 with 1 Axes>"
      ]
     },
     "metadata": {},
     "output_type": "display_data"
    }
   ],
   "source": [
    "# Stage 1 Analysis (Due Friday 7/18)\n",
    "# Radhika\n",
    "df_train.printSchema()\n",
    "df_train.groupBy('author').count().show()\n",
    "\n",
    "df_train_pd = df_train.toPandas()\n",
    "\n",
    "stop_words = set(stopwords.words('english'))\n",
    "word_counter = Counter() # Initialize Counter\n",
    "\n",
    "# Iterate over each text entry\n",
    "for text in df_train_pd['text']:\n",
    "    words = re.findall(r'\\b\\w+\\b', text.lower())\n",
    "    filtered_words = [word for word in words if word not in stop_words]  # Exclude stopwords\n",
    "    word_counter.update(filtered_words) # Lowercase, remove punctuation, and split into words\n",
    "\n",
    "top_words = word_counter.most_common(30)\n",
    "print(top_words) #display 30 most frequent non-stop words\n",
    "words, frequencies = zip(*top_words)  # Unpack into two lists\n",
    "\n",
    "plt.figure(figsize=(12, 6))\n",
    "plt.bar(words, frequencies, color='skyblue')\n",
    "plt.xticks(rotation=45, ha='right')\n",
    "plt.title('Top 30 Most Frequent Non-Stopwords')\n",
    "plt.xlabel('Words')\n",
    "plt.ylabel('Frequency')\n",
    "plt.tight_layout()\n",
    "plt.show()"
   ]
  },
  {
   "cell_type": "code",
   "execution_count": null,
   "id": "2a71be43",
   "metadata": {},
   "outputs": [],
   "source": [
    "# Stage 1 Visualizations (Due Friday 7/18)\n",
    "# Claudine"
   ]
  },
  {
   "cell_type": "markdown",
   "id": "93f5b4b8",
   "metadata": {},
   "source": [
    "<hr>\n",
    "\n",
    "### Stage 2 - Feature Extraction\n",
    "1) Perform TFIDF to quantify word importance <href><https://en.wikipedia.org/wiki/Tf%E2%80%93idf></href>\n",
    "2) Normalize is scaling or standardizing the numerical features to a standard range or distribution\n",
    "    - In text mining, normalization vectorizes features with methods like TFIDF, a numerical measurement, to ensure a consistent scale\n",
    "    - It handles variations in the magnitude of feature values impacting machine-learning algorithm performance. Normalize the features to ensure a similar scale and prevent features with larger values from dominating the analysis or modeling process"
   ]
  },
  {
   "cell_type": "code",
   "execution_count": 173,
   "id": "c2848f0c",
   "metadata": {},
   "outputs": [],
   "source": [
    "# Stage 2 - TFIDF and Normalization (Due Friday 7/18)\n",
    "# Daniel\n",
    "from pyspark.ml.feature import Tokenizer, HashingTF, IDF\n",
    "\n",
    "tokenizer = Tokenizer(outputCol='words')\n",
    "tokenizer.setInputCol('text')\n",
    "words_data = tokenizer.transform(df_train)\n",
    "\n",
    "hashingTF = HashingTF(inputCol='words', outputCol='tf')\n",
    "hashingTF.setNumFeatures(1024) # keep this powers of two: https://spark.apache.org/docs/latest/api/python/reference/api/pyspark.ml.feature.HashingTF.html#pyspark.ml.feature.HashingTF\n",
    "                               # I selected 4096 for no particular reason, this can be tweaked.\n",
    "\n",
    "tf_data = hashingTF.transform(words_data)\n",
    "\n",
    "idf = IDF(minDocFreq=3)\n",
    "\n",
    "idf.setInputCol('tf')\n",
    "idf.setOutputCol('tfidf')\n",
    "idf_model = idf.fit(tf_data)\n",
    "\n",
    "tfidf_data = idf_model.transform(tf_data)"
   ]
  },
  {
   "cell_type": "code",
   "execution_count": 46,
   "id": "fbaadde3",
   "metadata": {},
   "outputs": [
    {
     "name": "stdout",
     "output_type": "stream",
     "text": [
      "+--------------------------------------------------------------------------------------------------------------------------------------------------------------------------------------------------------------------------------------------------------------------------------------------------------------------------------------------------------------------------------------------------------------------------------------------------------------------------------------------------------------------------------------------------------------------------------------------------------------------------------------------------------------------------------------------------------------------------------------------------------------------------------------------------------------------------------------------------------------------------------------------------------------------------------------------------------------------------------------------------------------------------------------------------------------------------------------------------------------------------------------------------------------------------------------------------------------------------------------------------------------------------------------------------------------------------------------------------------------------------------------------------------------------------------------------------------------------------------------------------------------+\n",
      "|tfidf                                                                                                                                                                                                                                                                                                                                                                                                                                                                                                                                                                                                                                                                                                                                                                                                                                                                                                                                                                                                                                                                                                                                                                                                                                                                                                                                                                                                                                                                                                         |\n",
      "+--------------------------------------------------------------------------------------------------------------------------------------------------------------------------------------------------------------------------------------------------------------------------------------------------------------------------------------------------------------------------------------------------------------------------------------------------------------------------------------------------------------------------------------------------------------------------------------------------------------------------------------------------------------------------------------------------------------------------------------------------------------------------------------------------------------------------------------------------------------------------------------------------------------------------------------------------------------------------------------------------------------------------------------------------------------------------------------------------------------------------------------------------------------------------------------------------------------------------------------------------------------------------------------------------------------------------------------------------------------------------------------------------------------------------------------------------------------------------------------------------------------+\n",
      "|(512,[14,27,43,45,85,92,100,110,112,117,119,145,198,239,243,267,286,304,337,355,370,373,395,396,400,422,428,440,445,456,463,468,505,509],[4.110822792954486,2.497653532907527,6.324087521898413,3.182763575922823,4.240356845146388,1.991986028024978,2.5650515077246627,3.3869983601474933,3.5632958023380668,3.349929623862152,3.7909540340068033,1.2369070714043682,4.0771289471680126,3.5759886291364857,2.389503615162122,0.5848288372573849,3.8325304608525435,1.2765105476887837,2.285369477939958,3.878376848977962,3.1464839018421746,3.1034790183993244,1.2479990530824263,3.8636707015882665,3.394579897599891,3.5157934683530634,4.226272105264649,0.8007801662333227,1.7766545137846055,2.4503719992767015,1.584768582887717,3.116072201424151,2.9459211802504517,1.4077694792013793])                                                                                                                                                                                                                                                                                                                                                                                                                                                                                                                                                                                                                                                                                                           |\n",
      "|(512,[9,35,57,99,145,220,230,311,320,337,363,427,440,468],[3.129993539942759,2.2268732712583494,3.5454381849380603,0.927848584946908,0.30922676785109204,3.590694776526181,1.5516412957516335,2.1260685721363837,1.3337658748398515,2.285369477939958,3.731661147638222,3.195155308217987,0.8007801662333227,3.116072201424151])                                                                                                                                                                                                                                                                                                                                                                                                                                                                                                                                                                                                                                                                                                                                                                                                                                                                                                                                                                                                                                                                                                                                                                              |\n",
      "|(512,[2,8,20,87,89,99,117,120,129,145,178,213,263,275,305,307,351,354,385,395,420,430,431,445,463,469,480,487,502,511],[1.6007930581893337,7.133811829124333,3.3885100762328153,3.436544096698923,3.9933859577516206,0.927848584946908,3.349929623862152,2.319582669362617,2.678114624048562,0.6184535357021841,5.826827075485107,3.0226490124302994,3.9161171769608094,3.1149207908191094,1.9538578899039665,7.007675464865829,3.1311624471477413,2.29901639178114,2.960605731933373,1.2479990530824263,2.215105660765354,3.3169989460491403,3.465531633572175,1.7766545137846055,1.0565123885918113,3.9851100484477606,1.8116703761349835,0.9774980694016878,3.70639664597874,3.4497869497954543])                                                                                                                                                                                                                                                                                                                                                                                                                                                                                                                                                                                                                                                                                                                                                                                                          |\n",
      "|(512,[13,44,60,68,84,113,115,145,224,239,267,268,301,305,323,344,345,381,393,394,403,406,420,436,438,445,448,487,493,507],[1.9307045849292497,4.053318298474294,3.586997914644855,1.8725685583415799,4.171836898709632,3.880849038123351,3.9059130067865677,0.30922676785109204,3.447717397297048,3.5759886291364857,1.1696576745147698,2.4109008278974042,3.6981150251470183,1.9538578899039665,3.035320776499122,2.0321603709089198,1.9713065332389128,2.75056540561759,6.940891296749209,4.044533468918561,3.4239256327397114,7.14469127571597,2.215105660765354,2.4035290905166264,3.911002076294039,3.553309027569211,3.548984287944811,0.9774980694016878,4.171836898709632,3.641988070913732])                                                                                                                                                                                                                                                                                                                                                                                                                                                                                                                                                                                                                                                                                                                                                                                                         |\n",
      "|(512,[19,40,76,80,99,117,120,125,145,183,211,215,234,248,260,297,322,374,394,445,468,480,507,509,511],[3.2476305582228155,4.269135809696431,3.2581986882846077,3.996159884634346,0.927848584946908,3.349929623862152,2.319582669362617,1.6985873334638444,0.30922676785109204,3.447717397297048,3.592548345175504,3.3002387771916752,1.8495790401168812,3.4541586433999054,3.4052915531948185,3.180303550081961,3.8883024887779323,2.8901674886686135,4.044533468918561,1.7766545137846055,3.116072201424151,5.43501112840495,3.641988070913732,1.4077694792013793,1.7248934748977272])                                                                                                                                                                                                                                                                                                                                                                                                                                                                                                                                                                                                                                                                                                                                                                                                                                                                                                                       |\n",
      "|(512,[3,9,13,20,35,37,40,51,80,88,92,99,114,134,139,145,158,178,188,190,207,210,211,224,225,230,233,240,242,243,248,255,256,258,265,267,276,280,288,289,304,311,320,330,332,344,347,354,357,404,412,419,425,428,435,440,449,463,480,487,495,497,502,505,508],[3.827824569815131,3.129993539942759,1.9307045849292497,3.3885100762328153,2.2268732712583494,4.549545122819132,4.269135809696431,3.438132659384061,3.996159884634346,3.6517824685060196,3.983972056049956,1.855697169893816,3.813838327840391,3.3340448133221288,3.5632958023380668,0.9276803035532761,2.5947032757747777,2.9134135377425534,3.581478121421257,4.168531110575132,3.628435104509028,4.152164133110927,3.592548345175504,3.447717397297048,3.1939092021377395,1.5516412957516335,3.514076729734009,3.9033781511833796,2.200242405257627,2.389503615162122,3.4541586433999054,3.080980881612881,3.4461135477150737,3.507239096256405,1.6413513743956023,2.3393153490295395,4.047453179021896,1.6471684188261444,3.9606854964406857,3.615063367543139,2.5530210953775674,2.1260685721363837,1.3337658748398515,3.2675383158807403,2.7896902001098223,2.0321603709089198,4.010146126609086,2.29901639178114,3.6716638390598484,2.5323902113461645,3.8115261880820115,2.771567793105674,3.0385139670782766,4.226272105264649,4.185170429579097,3.203120664933291,3.341233916894598,1.584768582887717,5.43501112840495,1.9549961388033756,3.307188075484881,3.0955469654794205,3.70639664597874,2.9459211802504517,3.4987572812004957])|\n",
      "|(512,[16,56,69,87,96,111,145,234,241,267,281,283,303,393,395,396,432,463,487,509],[3.1288259974867216,3.2810337973556254,3.944727711002075,3.436544096698923,3.8661067563861478,3.599997169188495,0.6184535357021841,1.8495790401168812,3.529634519764935,0.5848288372573849,3.979630582683135,3.4541586433999054,3.4207957397307838,3.4704456483746045,1.2479990530824263,3.8636707015882665,3.8069178849958174,0.5282561942959056,0.9774980694016878,1.4077694792013793])                                                                                                                                                                                                                                                                                                                                                                                                                                                                                                                                                                                                                                                                                                                                                                                                                                                                                                                                                                                                                                   |\n",
      "|(512,[14,145,279,304,305,487,490,495],[4.110822792954486,0.30922676785109204,4.1296912772588685,1.2765105476887837,1.9538578899039665,0.9774980694016878,3.9473697204649136,3.307188075484881])                                                                                                                                                                                                                                                                                                                                                                                                                                                                                                                                                                                                                                                                                                                                                                                                                                                                                                                                                                                                                                                                                                                                                                                                                                                                                                               |\n",
      "|(512,[2,42,43,48,60,70,76,92,97,104,119,120,127,133,145,159,169,181,183,212,213,214,238,244,255,257,265,267,282,295,300,304,308,316,320,323,327,335,336,345,346,358,404,408,419,421,425,434,436,440,463,479,487,488,505,509],[3.2015861163786674,3.8115261880820115,3.1620437609492065,2.77647778660323,3.586997914644855,4.283841957086127,3.2581986882846077,3.983972056049956,3.6169627033467915,3.8467824835597453,3.7909540340068033,2.319582669362617,2.5101458877467144,3.16445922106081,1.2369070714043682,3.354305998461951,3.4737351250250033,3.534874706428491,3.447717397297048,4.071122923107801,3.0226490124302994,3.04493110139891,3.1476722561115533,3.4302149616472755,3.080980881612881,3.084323503109571,1.6413513743956023,1.7544865117721546,2.439185541735986,3.51751315923259,3.3240661132722327,2.5530210953775674,2.6050161894530177,4.276461849788504,5.335063499359406,6.070641552998244,4.2193034359485555,3.731661147638222,3.9161171769608094,1.9713065332389128,3.0666239260101698,9.61932208334896,2.5323902113461645,3.8069178849958174,2.771567793105674,3.556114442929402,3.0385139670782766,10.509516424028654,2.4035290905166264,4.0039008311666135,2.1130247771836226,6.553931990272599,2.9324942082050636,3.053551844442817,2.9459211802504517,5.631077916805517])                                                                                                                                                                                                     |\n",
      "|(512,[4,73,92,100,145,162,164,205,215,280,320,341,393,419,425,440,463,511],[3.9580081186699694,3.2371729465788572,0.995993014012489,2.5650515077246627,0.9276803035532761,6.43061424731059,3.94209266336407,3.4413173754515807,3.3002387771916752,1.6471684188261444,1.3337658748398515,4.007333185232471,3.4704456483746045,2.771567793105674,3.0385139670782766,0.8007801662333227,1.584768582887717,1.7248934748977272])                                                                                                                                                                                                                                                                                                                                                                                                                                                                                                                                                                                                                                                                                                                                                                                                                                                                                                                                                                                                                                                                                   |\n",
      "|(512,[81,92,99,122,184,204,230,304,320,351,375,394,405,440,452,459,505,511],[3.4590169525509817,0.995993014012489,0.927848584946908,3.3809742455441123,3.2450058848000443,3.0568038798291948,1.5516412957516335,2.5530210953775674,1.3337658748398515,3.1311624471477413,4.4661635138800815,4.044533468918561,3.2783200914840287,0.8007801662333227,3.757580525190297,3.735934658415604,5.891842360500903,5.1746804246931815])                                                                                                                                                                                                                                                                                                                                                                                                                                                                                                                                                                                                                                                                                                                                                                                                                                                                                                                                                                                                                                                                                |\n",
      "|(512,[145,242,274,276,280,303,324,417,436,452],[0.30922676785109204,2.200242405257627,3.3869983601474933,4.047453179021896,1.6471684188261444,3.4207957397307838,3.2089659483168473,3.137027566600139,2.4035290905166264,3.757580525190297])                                                                                                                                                                                                                                                                                                                                                                                                                                                                                                                                                                                                                                                                                                                                                                                                                                                                                                                                                                                                                                                                                                                                                                                                                                                                  |\n",
      "|(512,[39,66,88,145,148,209,288,354,395,463,477,480,485,511],[3.4037542738759323,3.3184083895523737,3.6517824685060196,0.6184535357021841,3.2216887662448155,3.0236988812931362,3.9606854964406857,2.29901639178114,1.2479990530824263,0.5282561942959056,3.2423880822579654,1.8116703761349835,3.3212332501879285,1.7248934748977272])                                                                                                                                                                                                                                                                                                                                                                                                                                                                                                                                                                                                                                                                                                                                                                                                                                                                                                                                                                                                                                                                                                                                                                        |\n",
      "|(512,[30,89,120,145,174,280,310,339,342,359,386,440,455,460],[3.3141860046725258,3.9933859577516206,2.319582669362617,0.6184535357021841,3.1632507616992416,1.6471684188261444,3.1693077154074314,3.8661067563861478,3.450932834151023,3.590694776526181,3.040648439606909,0.8007801662333227,2.897547595966236,3.8161558259807538])                                                                                                                                                                                                                                                                                                                                                                                                                                                                                                                                                                                                                                                                                                                                                                                                                                                                                                                                                                                                                                                                                                                                                                          |\n",
      "|(512,[18,99,125,145,268,287,414,463,483,509],[3.9878610818196507,0.927848584946908,1.6985873334638444,0.30922676785109204,2.4109008278974042,4.152164133110927,3.9238392230547197,0.5282561942959056,3.8958119108000635,1.4077694792013793])                                                                                                                                                                                                                                                                                                                                                                                                                                                                                                                                                                                                                                                                                                                                                                                                                                                                                                                                                                                                                                                                                                                                                                                                                                                                  |\n",
      "|(512,[16,19,28,31,39,68,82,83,92,99,129,138,145,160,184,186,265,267,277,297,302,304,310,320,323,329,351,399,440,463,464,473,474,484,488,509,511],[3.1288259974867216,3.2476305582228155,4.08620616531913,2.454525075551608,3.4037542738759323,1.8725685583415799,3.9394645409578004,3.3212332501879285,0.995993014012489,1.855697169893816,2.678114624048562,3.729531221380397,1.2369070714043682,3.4052915531948185,3.2450058848000443,4.092303745187248,1.6413513743956023,2.3393153490295395,3.3226486785912592,3.180303550081961,3.1500532096172953,2.5530210953775674,3.1693077154074314,1.3337658748398515,3.035320776499122,3.5507620661908104,3.1311624471477413,3.6676558176623097,0.8007801662333227,1.584768582887717,3.2216887662448155,3.61316763237824,3.6361571506029384,3.5796449403395965,3.053551844442817,1.4077694792013793,1.7248934748977272])                                                                                                                                                                                                                                                                                                                                                                                                                                                                                                                                                                                                                                          |\n",
      "|(512,[31,47,61,73,75,92,99,120,127,131,157,158,186,192,214,226,229,234,235,236,265,267,271,281,291,304,312,320,324,336,358,372,373,374,377,379,420,436,440,456,463,464,468,473,485,487,496],[4.909050151103216,2.904050173453803,3.4461135477150737,3.2371729465788572,3.7337956201668545,4.979965070062445,0.927848584946908,2.319582669362617,2.5101458877467144,3.2064406944496535,2.376221737566379,2.5947032757747777,4.092303745187248,3.080980881612881,6.08986220279782,3.6981150251470183,3.6303600329186128,1.8495790401168812,3.020552575603771,3.4786897181496865,1.6413513743956023,1.1696576745147698,3.358701609934989,3.979630582683135,2.6309189327122873,2.5530210953775674,3.2423880822579654,1.3337658748398515,3.2089659483168473,3.9161171769608094,3.2064406944496535,3.9342289269038555,3.1034790183993244,2.8901674886686135,3.4099176215836007,3.0776493960218776,4.430211321530708,2.4035290905166264,0.8007801662333227,2.4503719992767015,2.641280971479528,3.2216887662448155,3.116072201424151,3.61316763237824,3.3212332501879285,0.9774980694016878,4.449962246212623])                                                                                                                                                                                                                                                                                                                                                                                                      |\n",
      "|(512,[16,36,38,45,57,85,135,138,145,224,267,268,304,333,344,354,385,392,453,456,463,488,505],[3.1288259974867216,4.22278170032488,3.8515786558232383,3.182763575922823,3.5454381849380603,4.240356845146388,3.7797053214709324,3.729531221380397,0.6184535357021841,3.447717397297048,1.1696576745147698,2.4109008278974042,1.2765105476887837,3.8958119108000635,2.0321603709089198,2.29901639178114,2.960605731933373,7.524786170203023,3.5543271323553065,2.4503719992767015,1.0565123885918113,3.053551844442817,2.9459211802504517])                                                                                                                                                                                                                                                                                                                                                                                                                                                                                                                                                                                                                                                                                                                                                                                                                                                                                                                                                                     |\n",
      "|(512,[2,4,49,56,92,97,98,99,103,125,145,202,219,220,234,243,247,258,265,267,302,304,310,319,322,351,357,370,374,384,414,417,422,439,440,445,463,487],[1.6007930581893337,7.916016237339939,3.7274058220680835,3.2810337973556254,1.991986028024978,3.6169627033467915,3.761966497133551,2.7835457548407243,2.400708214174985,1.6985873334638444,0.30922676785109204,3.6817547420418113,3.391540381581994,3.590694776526181,1.8495790401168812,2.389503615162122,3.3198198223907815,3.507239096256405,1.6413513743956023,0.5848288372573849,3.1500532096172953,1.2765105476887837,3.1693077154074314,2.3696463714099907,3.8883024887779323,3.1311624471477413,3.6716638390598484,3.1464839018421746,2.8901674886686135,3.4068311993804112,3.9238392230547197,3.137027566600139,3.5157934683530634,3.5507620661908104,0.8007801662333227,3.553309027569211,3.169537165775434,0.9774980694016878])                                                                                                                                                                                                                                                                                                                                                                                                                                                                                                                                                                                                               |\n",
      "|(512,[2,27,44,45,68,70,120,145,153,158,207,219,249,254,257,267,280,296,300,310,332,351,352,354,359,372,383,385,395,409,425,440,445,457,463,472,480,507,511],[1.6007930581893337,2.497653532907527,4.053318298474294,3.182763575922823,1.8725685583415799,4.283841957086127,2.319582669362617,0.30922676785109204,4.021477692618635,2.5947032757747777,3.628435104509028,3.391540381581994,3.534874706428491,3.5632958023380668,3.084323503109571,1.7544865117721546,3.294336837652289,3.0195060030331,3.3240661132722327,3.1693077154074314,5.5793804002196445,3.1311624471477413,3.2423880822579654,2.29901639178114,3.590694776526181,3.9342289269038555,2.5697104179819035,2.960605731933373,1.2479990530824263,3.2796760238951648,3.0385139670782766,0.8007801662333227,1.7766545137846055,3.6517824685060196,1.584768582887717,3.8491776942857,7.246681504539934,3.641988070913732,1.7248934748977272])                                                                                                                                                                                                                                                                                                                                                                                                                                                                                                                                                                                                  |\n",
      "+--------------------------------------------------------------------------------------------------------------------------------------------------------------------------------------------------------------------------------------------------------------------------------------------------------------------------------------------------------------------------------------------------------------------------------------------------------------------------------------------------------------------------------------------------------------------------------------------------------------------------------------------------------------------------------------------------------------------------------------------------------------------------------------------------------------------------------------------------------------------------------------------------------------------------------------------------------------------------------------------------------------------------------------------------------------------------------------------------------------------------------------------------------------------------------------------------------------------------------------------------------------------------------------------------------------------------------------------------------------------------------------------------------------------------------------------------------------------------------------------------------------+\n",
      "only showing top 20 rows\n"
     ]
    }
   ],
   "source": [
    "tfidf_data = tfidf_data.drop('tf')\n",
    "\n",
    "tfidf_data.select('tfidf').show(truncate=False)"
   ]
  },
  {
   "cell_type": "markdown",
   "id": "c01db475",
   "metadata": {},
   "source": [
    "The data has this structure: `[Vector length], [indicies], [tf-idf values]`"
   ]
  },
  {
   "cell_type": "code",
   "execution_count": null,
   "id": "9fb5c7cb",
   "metadata": {},
   "outputs": [],
   "source": [
    "# Stage 2 Visualizations (ex: Most Important Word By Author) (Due Friday 7/18)\n",
    "# Aidan\n",
    "from pyspark.sql import SparkSession\n",
    "from pyspark.ml.feature import Tokenizer, CountVectorizer, IDF, StopWordsRemover\n",
    "from pyspark.sql.functions import col\n",
    "import pandas as pd\n",
    "import matplotlib.pyplot as plt\n",
    "from collections import defaultdict\n",
    "import re\n",
    "\n",
    "# Redo TFIDF: Need to use CountVectorizer here to retain the words for future analysis\n",
    "cv = CountVectorizer(inputCol='words', outputCol='tf', minDF=3.0, vocabSize=4096)\n",
    "cv_model = cv.fit(words_data)\n",
    "tf_cv_data = cv_model.transform(words_data)\n",
    "idf_cv = IDF(minDocFreq=3, inputCol='tf', outputCol='tfidf')\n",
    "idf_cv_model = idf.fit(tf_cv_data)\n",
    "tfidf_cv_data = idf_cv_model.transform(tf_cv_data).drop('tf')\n",
    "tfidf_cv_data.cache()\n",
    "\n",
    "# Here I have to switch to using Pandas, as Spark would have timeout issues when trying to parse the TFIDF dataframe. Since this is just for visualization this should be fine\n",
    "tfidf_pandas = tfidf_cv_data.select('author', 'tfidf').toPandas()\n",
    "\n",
    "# Group the tfidf vectors per author\n",
    "top_words_per_author = defaultdict(list)\n",
    "for _, row in tfidf_pandas.iterrows():\n",
    "    author = row['author']\n",
    "    vector = row['tfidf']\n",
    "    for index, value in zip(vector.indices, vector.values):\n",
    "        top_words_per_author[author].append((index, value))\n",
    "\n",
    "# Now compute the average tfidf value per word per author\n",
    "avg_tfidf_per_author = {}\n",
    "vocab = cv_model.vocabulary\n",
    "for author, terms in top_words_per_author.items():\n",
    "    # For each term get the sum and counts\n",
    "    index_sums = defaultdict(lambda: {'sum': 0.0, 'count': 0})\n",
    "    for index, value in terms:\n",
    "        index_sums[index]['sum'] += value\n",
    "        index_sums[index]['count'] += 1\n",
    "    \n",
    "    # Now compute the averages\n",
    "    avg_tfidf = [(vocab[index], data['sum'] / data['count']) for index, data in index_sums.items()]\n",
    "\n",
    "    # Sort averages by descending average value (element 1 in avg_tfidf above) and get top 10 words\n",
    "    avg_tfidf = sorted(avg_tfidf, key=lambda x: x[1], reverse=True)[:10]\n",
    "\n",
    "    # Assign them to the correct author\n",
    "    avg_tfidf_per_author[author] = pd.DataFrame(avg_tfidf, columns=['word', 'avg(value)'])\n",
    "\n",
    "# Plot the best words per author\n",
    "for author, df in avg_tfidf_per_author.items():\n",
    "    plt.figure(figsize=(10, 6))\n",
    "    plt.bar(df['word'], df['avg(value)'], color='lightblue')\n",
    "    plt.xlabel('Word')\n",
    "    plt.ylabel('Average TF-IDF')\n",
    "    plt.title(f'Top 10 Words for {author}')\n",
    "    plt.xticks(rotation=45, ha='right')\n",
    "    plt.tight_layout()\n",
    "    plt.show()"
   ]
  },
  {
   "cell_type": "markdown",
   "id": "c2de907c",
   "metadata": {},
   "source": [
    "<hr>\n",
    "\n",
    "### Stage 3 - Machine Learning\n",
    "1) Perform train/test split\n",
    "2) Perform algorithmic analysis to assess and predict test labels\n",
    "    - Use as many algorithms as you need to get a good answer.\n",
    "    - Supervised: logistic regression, random forest, support vector machines, etc.\n",
    "    - Unsupervised: K-means, dimensionality reduction, PCA, etc."
   ]
  },
  {
   "cell_type": "code",
   "execution_count": null,
   "id": "5214495b",
   "metadata": {},
   "outputs": [],
   "source": [
    "# Stage 3 Solution (Due by Monday 7/21)\n",
    "# Each team member will do 2 algorithms of their choosing"
   ]
  },
  {
   "cell_type": "code",
   "execution_count": null,
   "id": "ef6d7604",
   "metadata": {},
   "outputs": [],
   "source": [
    "# Aidan:\n"
   ]
  },
  {
   "cell_type": "code",
   "execution_count": null,
   "id": "e686e148",
   "metadata": {},
   "outputs": [],
   "source": [
    "# Daniel: SVC, K-Means\n",
    "tfidf_cv_data.show(truncate=False)"
   ]
  },
  {
   "cell_type": "code",
   "execution_count": null,
   "id": "9c872e6b",
   "metadata": {},
   "outputs": [],
   "source": [
    "# K-means\n",
    "from pyspark.ml import Pipeline\n",
    "from pyspark.ml.feature import PCA\n",
    "from pyspark.ml.feature import Normalizer\n",
    "from pyspark.ml.clustering import KMeans\n",
    "\n",
    "kmeans = KMeans(k=3,featuresCol='pca_tfidf')\n",
    "\n",
    "k_means_normalizer = Normalizer(inputCol='tfidf', outputCol='tfidf_normalized', p=2.0)\n",
    "k_means_pca = PCA(k=10, inputCol='tfidf_normalized', outputCol='pca_tfidf')\n",
    "\n",
    "k_means_pipeline = Pipeline(stages=[tokenizer, hashingTF, idf, k_means_pca, kmeans])\n",
    "# pipeline = Pipeline(stages=[tokenizer, hashingTF, idf, kmeans])\n",
    "k_means_model = k_means_pipeline.fit(df_train)\n",
    "\n",
    "k_means_result = k_means_model.transform(df_train)"
   ]
  },
  {
   "cell_type": "code",
   "execution_count": null,
   "id": "0db365ed",
   "metadata": {},
   "outputs": [],
   "source": [
    "k_means_result.show()\n",
    "k_means_result.groupBy(['prediction']).count().show()\n",
    "k_means_result.groupBy(['prediction','author']).count().show()"
   ]
  },
  {
   "cell_type": "code",
   "execution_count": null,
   "id": "84ef8666",
   "metadata": {},
   "outputs": [
    {
     "data": {
      "text/plain": [
       "DataFrame[id: string, text: string, author: string, words: array<string>, tf: vector, tfidf: vector, tfidf_normalized: vector, label: double, rawPrediction: vector, probability: vector, prediction: double]"
      ]
     },
     "execution_count": 174,
     "metadata": {},
     "output_type": "execute_result"
    }
   ],
   "source": [
    "# Daniel: Neural network\n",
    "from pyspark.ml.classification import MultilayerPerceptronClassifier\n",
    "\n",
    "layers = [hashingTF.getNumFeatures(), 300, 300, 300, 4, 3]\n",
    "\n",
    "# create the trainer and set its parameters\n",
    "nn_trainer = MultilayerPerceptronClassifier(maxIter=150, layers=layers, blockSize=128, seed=1234,featuresCol='tfidf_normalized',labelCol='label')\n",
    "\n",
    "nn_pipeline = Pipeline(stages=[\n",
    "    tokenizer\n",
    "    ,hashingTF    # numFeatures must stay constant\n",
    "    ,idf\n",
    "    ,k_means_normalizer\n",
    "    ,indexer\n",
    "    ,nn_trainer\n",
    "])\n",
    "\n",
    "# Fit and transform using same pipeline\n",
    "nn_model = nn_pipeline.fit(df_train)\n",
    "nn_results = nn_model.transform(df_train)\n",
    "\n",
    "nn_results.cache()"
   ]
  },
  {
   "cell_type": "code",
   "execution_count": 166,
   "id": "b45c9d30",
   "metadata": {},
   "outputs": [
    {
     "name": "stdout",
     "output_type": "stream",
     "text": [
      "+------+-----+----------+-----+\n",
      "|author|label|prediction|count|\n",
      "+------+-----+----------+-----+\n",
      "|   EAP|  0.0|       0.0| 5498|\n",
      "|   HPL|  2.0|       2.0| 2904|\n",
      "|   MWS|  1.0|       1.0| 3127|\n",
      "+------+-----+----------+-----+\n",
      "\n"
     ]
    }
   ],
   "source": [
    "nn_results.groupBy(['author','label','prediction']).count().filter(nn_results.label == nn_results.prediction).sort(1).show()"
   ]
  },
  {
   "cell_type": "code",
   "execution_count": 175,
   "id": "f6ee441e",
   "metadata": {},
   "outputs": [
    {
     "name": "stdout",
     "output_type": "stream",
     "text": [
      "Training Accuracy: 0.6551\n"
     ]
    }
   ],
   "source": [
    "from pyspark.ml.evaluation import MulticlassClassificationEvaluator\n",
    "\n",
    "evaluator = MulticlassClassificationEvaluator(\n",
    "    labelCol='label',\n",
    "    predictionCol='prediction',\n",
    "    metricName='accuracy'\n",
    ")\n",
    "\n",
    "accuracy = evaluator.evaluate(nn_results)\n",
    "print(f'Training Accuracy: {accuracy:.4f}')"
   ]
  },
  {
   "cell_type": "code",
   "execution_count": null,
   "id": "74320fe0",
   "metadata": {},
   "outputs": [],
   "source": [
    "# Claudine:\n"
   ]
  },
  {
   "cell_type": "code",
   "execution_count": null,
   "id": "952215d3",
   "metadata": {},
   "outputs": [],
   "source": [
    "# Radhika:"
   ]
  },
  {
   "cell_type": "markdown",
   "id": "774667f2",
   "metadata": {},
   "source": [
    "<hr>\n",
    "\n",
    "### Stage 4 - Evaluation and Visualization\n",
    "1) Choose a metric strategy to assess algorithmic performance like accuracy, precision, recall, or F1 score\n",
    "2) Visualize confusion matrix, correlations, and similar\n",
    "3) Identify important features contributing to classification\n",
    "4) Write a 2-3 sentence minimum of findings, learnings, and what you would do next"
   ]
  },
  {
   "cell_type": "code",
   "execution_count": null,
   "id": "ee704b93",
   "metadata": {},
   "outputs": [],
   "source": [
    "# Stage 4 Solution (Due by Monday 7/21)\n",
    "# Each team member will evaluate their models"
   ]
  },
  {
   "cell_type": "code",
   "execution_count": null,
   "id": "cd2986ac",
   "metadata": {},
   "outputs": [],
   "source": [
    "# Aidan"
   ]
  },
  {
   "cell_type": "code",
   "execution_count": null,
   "id": "36824696",
   "metadata": {},
   "outputs": [],
   "source": [
    "# Daniel"
   ]
  },
  {
   "cell_type": "code",
   "execution_count": null,
   "id": "0d9ef0e6",
   "metadata": {},
   "outputs": [],
   "source": [
    "# Claudine"
   ]
  },
  {
   "cell_type": "code",
   "execution_count": null,
   "id": "efee5221",
   "metadata": {},
   "outputs": [],
   "source": [
    "# Radhika"
   ]
  }
 ],
 "metadata": {
  "kernelspec": {
   "display_name": "Python 3",
   "language": "python",
   "name": "python3"
  },
  "language_info": {
   "codemirror_mode": {
    "name": "ipython",
    "version": 3
   },
   "file_extension": ".py",
   "mimetype": "text/x-python",
   "name": "python",
   "nbconvert_exporter": "python",
   "pygments_lexer": "ipython3",
   "version": "3.13.0"
  }
 },
 "nbformat": 4,
 "nbformat_minor": 5
}
